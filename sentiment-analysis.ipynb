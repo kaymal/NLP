{
 "cells": [
  {
   "cell_type": "markdown",
   "metadata": {},
   "source": [
    "# Sentiment Analysis\n",
    "\n",
    "\n",
    "Sentiment analysis (opinion mining or emotion AI) is the process of computationally identifying and categorizing opinions expressed in a piece of text, especially in order to determine whether the writer's attitude towards a particular topic, product, etc. is positive, negative, or neutral. [From Oxford](https://www.lexico.com/en/definition/sentiment_analysis)\n",
    "\n",
    "There are three main elements of a sentiment analysis system:\n",
    "- Opinion/Emotion (polarity:positive, negative, neutral; emotion:joy, surprise, worry, etc.)\n",
    "- Subject (the subject of the text)\n",
    "- Opinion holder\n",
    "\n",
    "Levels of granularity:\n",
    "- Document level\n",
    "- Sentence level\n",
    "- Aspect level\n",
    "\n",
    "Type of sentiment analysis algorithms:\n",
    "- Rule/lexicon-based\n",
    "- Automatic/ Machine learning\n"
   ]
  },
  {
   "cell_type": "code",
   "execution_count": 34,
   "metadata": {},
   "outputs": [],
   "source": [
    "# Import necessary modules\n",
    "import pandas as pd\n",
    "import numpy as np\n",
    "import re\n",
    "\n",
    "%matplotlib inline\n",
    "import matplotlib.pyplot as plt\n",
    "\n",
    "# Import the required NLP packages\n",
    "from textblob import TextBlob\n",
    "from wordcloud import WordCloud, STOPWORDS\n",
    "from sklearn.feature_extraction.text import CountVectorizer, TfidfVectorizer\n",
    "from sklearn.feature_extraction.text import ENGLISH_STOP_WORDS\n",
    "from nltk import word_tokenize\n",
    "from nltk.stem import PorterStemmer, WordNetLemmatizer\n",
    "\n",
    "from langdetect import detect_langs # Find out the probabilities for the top languages\n",
    "from langdetect import detect # Detect the language of the text\n",
    "import fasttext\n",
    "\n",
    "# Import classifiers\n",
    "from sklearn.linear_model import LogisticRegression"
   ]
  },
  {
   "cell_type": "markdown",
   "metadata": {},
   "source": [
    "## Rule/lexicon-based Approach Using TextBlob"
   ]
  },
  {
   "cell_type": "code",
   "execution_count": 29,
   "metadata": {},
   "outputs": [
    {
     "name": "stdout",
     "output_type": "stream",
     "text": [
      "Sentiment(polarity=0.7, subjectivity=0.6000000000000001)\n"
     ]
    }
   ],
   "source": [
    "# from textblob import TextBlob\n",
    "\n",
    "# Generate a text\n",
    "text = \"He is a good person.\"\n",
    "\n",
    "# Create a textblob object  \n",
    "blob_text = TextBlob(text)\n",
    "\n",
    "# Print out the sentiment \n",
    "print(blob_text.sentiment)"
   ]
  },
  {
   "cell_type": "code",
   "execution_count": 30,
   "metadata": {},
   "outputs": [
    {
     "name": "stdout",
     "output_type": "stream",
     "text": [
      "Sentiment(polarity=0.022916666666666658, subjectivity=0.5895833333333332)\n"
     ]
    }
   ],
   "source": [
    "two_cities = '''It was the best of times, it was the worst of times, \n",
    "                it was the age of wisdom, it was the age of foolishness, \n",
    "                it was the epoch of belief, it was the epoch of incredulity, \n",
    "                it was the season of Light, it was the season of Darkness, \n",
    "                it was the spring of hope, it was the winter of despair, \n",
    "                we had everything before us, we had nothing before us, \n",
    "                we were all going direct to Heaven, \n",
    "                we were all going direct the other way – in short, \n",
    "                the period was so far like the present period, \n",
    "                that some of its noisiest authorities insisted on its being received, \n",
    "                for good or for evil, in the superlative degree of comparison only.\n",
    "             '''\n",
    "\n",
    "# Create a textblob object  \n",
    "blob_two_cities = TextBlob(two_cities)\n",
    "\n",
    "# Print out the sentiment \n",
    "print(blob_two_cities.sentiment)"
   ]
  },
  {
   "cell_type": "code",
   "execution_count": 46,
   "metadata": {},
   "outputs": [],
   "source": [
    "# Read data\n",
    "movies = pd.read_csv('data/sentiment/IMDB.csv', usecols=[1,2])"
   ]
  },
  {
   "cell_type": "code",
   "execution_count": 7,
   "metadata": {},
   "outputs": [
    {
     "data": {
      "text/html": [
       "<div>\n",
       "<style scoped>\n",
       "    .dataframe tbody tr th:only-of-type {\n",
       "        vertical-align: middle;\n",
       "    }\n",
       "\n",
       "    .dataframe tbody tr th {\n",
       "        vertical-align: top;\n",
       "    }\n",
       "\n",
       "    .dataframe thead th {\n",
       "        text-align: right;\n",
       "    }\n",
       "</style>\n",
       "<table border=\"1\" class=\"dataframe\">\n",
       "  <thead>\n",
       "    <tr style=\"text-align: right;\">\n",
       "      <th></th>\n",
       "      <th>review</th>\n",
       "      <th>label</th>\n",
       "    </tr>\n",
       "  </thead>\n",
       "  <tbody>\n",
       "    <tr>\n",
       "      <th>0</th>\n",
       "      <td>This short spoof can be found on Elite's Mille...</td>\n",
       "      <td>0</td>\n",
       "    </tr>\n",
       "    <tr>\n",
       "      <th>1</th>\n",
       "      <td>A singularly unfunny musical comedy that artif...</td>\n",
       "      <td>0</td>\n",
       "    </tr>\n",
       "    <tr>\n",
       "      <th>2</th>\n",
       "      <td>An excellent series, masterfully acted and dir...</td>\n",
       "      <td>1</td>\n",
       "    </tr>\n",
       "    <tr>\n",
       "      <th>3</th>\n",
       "      <td>The master of movie spectacle Cecil B. De Mill...</td>\n",
       "      <td>1</td>\n",
       "    </tr>\n",
       "    <tr>\n",
       "      <th>4</th>\n",
       "      <td>I was gifted with this movie as it had such a ...</td>\n",
       "      <td>0</td>\n",
       "    </tr>\n",
       "  </tbody>\n",
       "</table>\n",
       "</div>"
      ],
      "text/plain": [
       "                                              review  label\n",
       "0  This short spoof can be found on Elite's Mille...      0\n",
       "1  A singularly unfunny musical comedy that artif...      0\n",
       "2  An excellent series, masterfully acted and dir...      1\n",
       "3  The master of movie spectacle Cecil B. De Mill...      1\n",
       "4  I was gifted with this movie as it had such a ...      0"
      ]
     },
     "execution_count": 7,
     "metadata": {},
     "output_type": "execute_result"
    }
   ],
   "source": [
    "movies.head()"
   ]
  },
  {
   "cell_type": "code",
   "execution_count": 26,
   "metadata": {},
   "outputs": [
    {
     "name": "stdout",
     "output_type": "stream",
     "text": [
      "<class 'pandas.core.frame.DataFrame'>\n",
      "RangeIndex: 7501 entries, 0 to 7500\n",
      "Data columns (total 2 columns):\n",
      "review    7501 non-null object\n",
      "label     7501 non-null int64\n",
      "dtypes: int64(1), object(1)\n",
      "memory usage: 117.3+ KB\n"
     ]
    }
   ],
   "source": [
    "# Structure of the dataset\n",
    "movies.info()"
   ]
  },
  {
   "cell_type": "code",
   "execution_count": 19,
   "metadata": {},
   "outputs": [
    {
     "name": "stdout",
     "output_type": "stream",
     "text": [
      "Number of positive and negative reviews: \n",
      " 0    3782\n",
      "1    3719\n",
      "Name: label, dtype: int64\n",
      "Proportion of positive and negative reviews: \n",
      " 0    0.504199\n",
      "1    0.495801\n",
      "Name: label, dtype: float64\n"
     ]
    }
   ],
   "source": [
    "# Number of positive and negative reviews\n",
    "print('Number of positive and negative reviews: \\n', movies.label.value_counts())\n",
    "\n",
    "# Proportion of positive and negative reviews\n",
    "print('Proportion of positive and negative reviews: \\n', movies.label.value_counts() / len(movies))"
   ]
  },
  {
   "cell_type": "code",
   "execution_count": 25,
   "metadata": {},
   "outputs": [
    {
     "data": {
      "text/plain": [
       "<matplotlib.axes._subplots.AxesSubplot at 0x11a56be48>"
      ]
     },
     "execution_count": 25,
     "metadata": {},
     "output_type": "execute_result"
    },
    {
     "data": {
      "image/png": "[encoded data removed]",
      "text/plain": [
       "<Figure size 432x288 with 1 Axes>"
      ]
     },
     "metadata": {
      "needs_background": "light"
     },
     "output_type": "display_data"
    }
   ],
   "source": [
    "# Length of the reviews (# char)\n",
    "movies.review.str.len().hist()"
   ]
  },
  {
   "cell_type": "code",
   "execution_count": 76,
   "metadata": {},
   "outputs": [
    {
     "name": "stdout",
     "output_type": "stream",
     "text": [
      "label:  1\n",
      "Sentiment(polarity=0.2024748060772906, subjectivity=0.4518248900857597)\n"
     ]
    }
   ],
   "source": [
    "# Review of the movie \"Titanic\"\n",
    "titanic = movies.iloc[4930]\n",
    "\n",
    "print(\"label: \", titanic.label)\n",
    "\n",
    "# Create a textblob object  \n",
    "blob_titanic = TextBlob(titanic.review)\n",
    "\n",
    "# Print out its sentiment  \n",
    "print(blob_titanic.sentiment)"
   ]
  },
  {
   "cell_type": "markdown",
   "metadata": {},
   "source": [
    "Label and the polarity matches for the movie Titanic."
   ]
  },
  {
   "cell_type": "markdown",
   "metadata": {},
   "source": [
    "### Word/Text Cloud"
   ]
  },
  {
   "cell_type": "code",
   "execution_count": 50,
   "metadata": {},
   "outputs": [],
   "source": [
    "# from wordcloud import WordCloud, STOPWORDS"
   ]
  },
  {
   "cell_type": "code",
   "execution_count": 60,
   "metadata": {},
   "outputs": [
    {
     "data": {
      "image/png": "[encoded data removed]",
      "text/plain": [
       "<Figure size 432x288 with 1 Axes>"
      ]
     },
     "metadata": {
      "needs_background": "light"
     },
     "output_type": "display_data"
    }
   ],
   "source": [
    "# Generate the word cloud\n",
    "titanic_cloud = WordCloud(background_color=\"white\").generate(titanic.review)\n",
    "\n",
    "# Create a figure of the generated cloud\n",
    "plt.imshow(titanic_cloud, interpolation='bilinear')  # the interpolation argument makes the word cloud appear more smoothly\n",
    "plt.axis('off')\n",
    "# Display the figure\n",
    "plt.show()"
   ]
  },
  {
   "cell_type": "markdown",
   "metadata": {},
   "source": [
    "We can remove stop words from word clouds using `stopwords` parameter."
   ]
  },
  {
   "cell_type": "code",
   "execution_count": 82,
   "metadata": {},
   "outputs": [
    {
     "data": {
      "image/png": "[encoded data removed]",
      "text/plain": [
       "<Figure size 432x288 with 1 Axes>"
      ]
     },
     "metadata": {
      "needs_background": "light"
     },
     "output_type": "display_data"
    }
   ],
   "source": [
    "# Define the stopwords list\n",
    "my_stopwords = STOPWORDS.update([\"movie\", \"movies\", \"film\", \"films\", \"watch\", \"story\"])\n",
    "\n",
    "# Generate the word cloud\n",
    "titanic_cloud = WordCloud(background_color=\"white\", \n",
    "                          stopwords=my_stopwords).generate(titanic.review)\n",
    "\n",
    "# Create a figure of the generated cloud\n",
    "plt.imshow(titanic_cloud, interpolation='bilinear')  # the interpolation argument makes the word cloud appear more smoothly\n",
    "plt.axis('off')\n",
    "# Display the figure\n",
    "plt.show()"
   ]
  },
  {
   "cell_type": "markdown",
   "metadata": {},
   "source": [
    "## Bag of Words (BOW)\n",
    "\n",
    "BOW is a simple but effective method to build a vocabulary of all the words occurring in a text. It creates a numeric representation of the document.\n",
    "\n",
    "Types:\n",
    "- Unigrams : single tokens \n",
    "- Bigrams: pairs of tokens \n",
    "- Trigrams: triples of tokens \n",
    "- n-grams: sequence of n-tokens"
   ]
  },
  {
   "cell_type": "code",
   "execution_count": 52,
   "metadata": {},
   "outputs": [],
   "source": [
    "# Read data\n",
    "amazon = pd.read_csv(\"data/sentiment/amazon.csv\", index_col=0)"
   ]
  },
  {
   "cell_type": "code",
   "execution_count": 5,
   "metadata": {},
   "outputs": [
    {
     "data": {
      "text/html": [
       "<div>\n",
       "<style scoped>\n",
       "    .dataframe tbody tr th:only-of-type {\n",
       "        vertical-align: middle;\n",
       "    }\n",
       "\n",
       "    .dataframe tbody tr th {\n",
       "        vertical-align: top;\n",
       "    }\n",
       "\n",
       "    .dataframe thead th {\n",
       "        text-align: right;\n",
       "    }\n",
       "</style>\n",
       "<table border=\"1\" class=\"dataframe\">\n",
       "  <thead>\n",
       "    <tr style=\"text-align: right;\">\n",
       "      <th></th>\n",
       "      <th>score</th>\n",
       "      <th>review</th>\n",
       "    </tr>\n",
       "  </thead>\n",
       "  <tbody>\n",
       "    <tr>\n",
       "      <th>0</th>\n",
       "      <td>1</td>\n",
       "      <td>Stuning even for the non-gamer: This sound tr...</td>\n",
       "    </tr>\n",
       "    <tr>\n",
       "      <th>1</th>\n",
       "      <td>1</td>\n",
       "      <td>The best soundtrack ever to anything.: I'm re...</td>\n",
       "    </tr>\n",
       "    <tr>\n",
       "      <th>2</th>\n",
       "      <td>1</td>\n",
       "      <td>Amazing!: This soundtrack is my favorite musi...</td>\n",
       "    </tr>\n",
       "    <tr>\n",
       "      <th>3</th>\n",
       "      <td>1</td>\n",
       "      <td>Excellent Soundtrack: I truly like this sound...</td>\n",
       "    </tr>\n",
       "    <tr>\n",
       "      <th>4</th>\n",
       "      <td>1</td>\n",
       "      <td>Remember, Pull Your Jaw Off The Floor After H...</td>\n",
       "    </tr>\n",
       "  </tbody>\n",
       "</table>\n",
       "</div>"
      ],
      "text/plain": [
       "   score                                             review\n",
       "0      1   Stuning even for the non-gamer: This sound tr...\n",
       "1      1   The best soundtrack ever to anything.: I'm re...\n",
       "2      1   Amazing!: This soundtrack is my favorite musi...\n",
       "3      1   Excellent Soundtrack: I truly like this sound...\n",
       "4      1   Remember, Pull Your Jaw Off The Floor After H..."
      ]
     },
     "execution_count": 5,
     "metadata": {},
     "output_type": "execute_result"
    }
   ],
   "source": [
    "amazon.head()"
   ]
  },
  {
   "cell_type": "markdown",
   "metadata": {},
   "source": [
    "### Count Vectorizer"
   ]
  },
  {
   "cell_type": "code",
   "execution_count": 10,
   "metadata": {},
   "outputs": [
    {
     "data": {
      "text/html": [
       "<div>\n",
       "<style scoped>\n",
       "    .dataframe tbody tr th:only-of-type {\n",
       "        vertical-align: middle;\n",
       "    }\n",
       "\n",
       "    .dataframe tbody tr th {\n",
       "        vertical-align: top;\n",
       "    }\n",
       "\n",
       "    .dataframe thead th {\n",
       "        text-align: right;\n",
       "    }\n",
       "</style>\n",
       "<table border=\"1\" class=\"dataframe\">\n",
       "  <thead>\n",
       "    <tr style=\"text-align: right;\">\n",
       "      <th></th>\n",
       "      <th>about</th>\n",
       "      <th>after</th>\n",
       "      <th>all</th>\n",
       "      <th>also</th>\n",
       "      <th>am</th>\n",
       "      <th>an</th>\n",
       "      <th>and</th>\n",
       "      <th>any</th>\n",
       "      <th>are</th>\n",
       "      <th>as</th>\n",
       "      <th>...</th>\n",
       "      <th>what</th>\n",
       "      <th>when</th>\n",
       "      <th>which</th>\n",
       "      <th>who</th>\n",
       "      <th>will</th>\n",
       "      <th>with</th>\n",
       "      <th>work</th>\n",
       "      <th>would</th>\n",
       "      <th>you</th>\n",
       "      <th>your</th>\n",
       "    </tr>\n",
       "  </thead>\n",
       "  <tbody>\n",
       "    <tr>\n",
       "      <th>0</th>\n",
       "      <td>0</td>\n",
       "      <td>0</td>\n",
       "      <td>1</td>\n",
       "      <td>0</td>\n",
       "      <td>0</td>\n",
       "      <td>0</td>\n",
       "      <td>2</td>\n",
       "      <td>0</td>\n",
       "      <td>0</td>\n",
       "      <td>0</td>\n",
       "      <td>...</td>\n",
       "      <td>0</td>\n",
       "      <td>0</td>\n",
       "      <td>0</td>\n",
       "      <td>2</td>\n",
       "      <td>0</td>\n",
       "      <td>1</td>\n",
       "      <td>0</td>\n",
       "      <td>2</td>\n",
       "      <td>0</td>\n",
       "      <td>1</td>\n",
       "    </tr>\n",
       "    <tr>\n",
       "      <th>1</th>\n",
       "      <td>0</td>\n",
       "      <td>0</td>\n",
       "      <td>0</td>\n",
       "      <td>0</td>\n",
       "      <td>0</td>\n",
       "      <td>0</td>\n",
       "      <td>3</td>\n",
       "      <td>1</td>\n",
       "      <td>1</td>\n",
       "      <td>0</td>\n",
       "      <td>...</td>\n",
       "      <td>0</td>\n",
       "      <td>0</td>\n",
       "      <td>0</td>\n",
       "      <td>0</td>\n",
       "      <td>0</td>\n",
       "      <td>0</td>\n",
       "      <td>0</td>\n",
       "      <td>1</td>\n",
       "      <td>1</td>\n",
       "      <td>0</td>\n",
       "    </tr>\n",
       "    <tr>\n",
       "      <th>2</th>\n",
       "      <td>0</td>\n",
       "      <td>0</td>\n",
       "      <td>3</td>\n",
       "      <td>0</td>\n",
       "      <td>0</td>\n",
       "      <td>1</td>\n",
       "      <td>4</td>\n",
       "      <td>0</td>\n",
       "      <td>1</td>\n",
       "      <td>1</td>\n",
       "      <td>...</td>\n",
       "      <td>0</td>\n",
       "      <td>0</td>\n",
       "      <td>1</td>\n",
       "      <td>1</td>\n",
       "      <td>0</td>\n",
       "      <td>0</td>\n",
       "      <td>1</td>\n",
       "      <td>1</td>\n",
       "      <td>2</td>\n",
       "      <td>0</td>\n",
       "    </tr>\n",
       "    <tr>\n",
       "      <th>3</th>\n",
       "      <td>0</td>\n",
       "      <td>0</td>\n",
       "      <td>0</td>\n",
       "      <td>0</td>\n",
       "      <td>0</td>\n",
       "      <td>0</td>\n",
       "      <td>9</td>\n",
       "      <td>0</td>\n",
       "      <td>1</td>\n",
       "      <td>0</td>\n",
       "      <td>...</td>\n",
       "      <td>0</td>\n",
       "      <td>0</td>\n",
       "      <td>0</td>\n",
       "      <td>0</td>\n",
       "      <td>0</td>\n",
       "      <td>0</td>\n",
       "      <td>0</td>\n",
       "      <td>0</td>\n",
       "      <td>0</td>\n",
       "      <td>0</td>\n",
       "    </tr>\n",
       "    <tr>\n",
       "      <th>4</th>\n",
       "      <td>0</td>\n",
       "      <td>1</td>\n",
       "      <td>0</td>\n",
       "      <td>0</td>\n",
       "      <td>0</td>\n",
       "      <td>0</td>\n",
       "      <td>3</td>\n",
       "      <td>0</td>\n",
       "      <td>1</td>\n",
       "      <td>0</td>\n",
       "      <td>...</td>\n",
       "      <td>0</td>\n",
       "      <td>0</td>\n",
       "      <td>0</td>\n",
       "      <td>0</td>\n",
       "      <td>0</td>\n",
       "      <td>0</td>\n",
       "      <td>0</td>\n",
       "      <td>0</td>\n",
       "      <td>3</td>\n",
       "      <td>1</td>\n",
       "    </tr>\n",
       "  </tbody>\n",
       "</table>\n",
       "<p>5 rows × 100 columns</p>\n",
       "</div>"
      ],
      "text/plain": [
       "   about  after  all  also  am  an  and  any  are  as  ...  what  when  which  \\\n",
       "0      0      0    1     0   0   0    2    0    0   0  ...     0     0      0   \n",
       "1      0      0    0     0   0   0    3    1    1   0  ...     0     0      0   \n",
       "2      0      0    3     0   0   1    4    0    1   1  ...     0     0      1   \n",
       "3      0      0    0     0   0   0    9    0    1   0  ...     0     0      0   \n",
       "4      0      1    0     0   0   0    3    0    1   0  ...     0     0      0   \n",
       "\n",
       "   who  will  with  work  would  you  your  \n",
       "0    2     0     1     0      2    0     1  \n",
       "1    0     0     0     0      1    1     0  \n",
       "2    1     0     0     1      1    2     0  \n",
       "3    0     0     0     0      0    0     0  \n",
       "4    0     0     0     0      0    3     1  \n",
       "\n",
       "[5 rows x 100 columns]"
      ]
     },
     "execution_count": 10,
     "metadata": {},
     "output_type": "execute_result"
    }
   ],
   "source": [
    "# Build the vectorizer, specify max features \n",
    "vect = CountVectorizer(max_features=100)\n",
    "\n",
    "# Fit the vectorizer\n",
    "vect.fit(amazon.review)\n",
    "\n",
    "# Transform the review column\n",
    "X_review = vect.transform(amazon.review)\n",
    "\n",
    "# Create the bow representation\n",
    "X_df=pd.DataFrame(X_review.toarray(), columns=vect.get_feature_names())\n",
    "X_df.head()"
   ]
  },
  {
   "cell_type": "markdown",
   "metadata": {
    "toc-hr-collapsed": true
   },
   "source": [
    "### Extra: Unigrams vs n-grams Example\n",
    "\n",
    "- Only unigrams: `ngram_range = (1, 1)`\n",
    "- Uni- and bigrams: `ngram_range = (1, 2)`\n",
    "- ..."
   ]
  },
  {
   "cell_type": "markdown",
   "metadata": {},
   "source": [
    "#### Comparing Unigrams\n",
    "\n",
    "The following texts have opposite meaning, but their BOW representation are the same."
   ]
  },
  {
   "cell_type": "code",
   "execution_count": 23,
   "metadata": {},
   "outputs": [
    {
     "name": "stdout",
     "output_type": "stream",
     "text": [
      "['I am happy, not sad.'] \n",
      "    am  happy  not  sad\n",
      "0   1      1    1    1\n",
      "['I am sad, not happy.'] \n",
      "    am  happy  not  sad\n",
      "0   1      1    1    1\n"
     ]
    }
   ],
   "source": [
    "happy = [\"I am happy, not sad.\"]\n",
    "sad = [\"I am sad, not happy.\"]\n",
    "\n",
    "# Build the vectorizer and fit it\n",
    "happy_vect = CountVectorizer()\n",
    "happy_bow = happy_vect.fit_transform(happy)\n",
    "\n",
    "# Build the vectorizer and fit it\n",
    "sad_vect = CountVectorizer()\n",
    "sad_bow = sad_vect.fit_transform(sad)\n",
    "\n",
    "# Compare two bow representations\n",
    "print(happy, '\\n', pd.DataFrame(happy_bow.toarray(), columns=happy_vect.get_feature_names()))\n",
    "print(sad, '\\n', pd.DataFrame(sad_bow.toarray(), columns=sad_vect.get_feature_names()))"
   ]
  },
  {
   "cell_type": "markdown",
   "metadata": {},
   "source": [
    "#### Comparing Bigrams\n",
    "\n",
    "n-grams helps us better evaluate sentiments."
   ]
  },
  {
   "cell_type": "code",
   "execution_count": 24,
   "metadata": {},
   "outputs": [
    {
     "name": "stdout",
     "output_type": "stream",
     "text": [
      "['I am happy, not sad.'] \n",
      "    am  am happy  happy  happy not  not  not sad  sad\n",
      "0   1         1      1          1    1        1    1\n",
      "['I am sad, not happy.'] \n",
      "    am  am sad  happy  not  not happy  sad  sad not\n",
      "0   1       1      1    1          1    1        1\n"
     ]
    }
   ],
   "source": [
    "happy = [\"I am happy, not sad.\"]\n",
    "sad = [\"I am sad, not happy.\"]\n",
    "\n",
    "# Build the vectorizer and fit it\n",
    "happy_vect = CountVectorizer(ngram_range=(1,2))\n",
    "happy_bow = happy_vect.fit_transform(happy)\n",
    "\n",
    "# Build the vectorizer and fit it\n",
    "sad_vect = CountVectorizer(ngram_range=(1,2))\n",
    "sad_bow = sad_vect.fit_transform(sad)\n",
    "\n",
    "# Compare two bows\n",
    "print(happy, '\\n', pd.DataFrame(happy_bow.toarray(), columns=happy_vect.get_feature_names()))\n",
    "print(sad, '\\n', pd.DataFrame(sad_bow.toarray(), columns=sad_vect.get_feature_names()))"
   ]
  },
  {
   "cell_type": "markdown",
   "metadata": {},
   "source": [
    "### n-grams"
   ]
  },
  {
   "cell_type": "code",
   "execution_count": 36,
   "metadata": {},
   "outputs": [
    {
     "data": {
      "text/html": [
       "<div>\n",
       "<style scoped>\n",
       "    .dataframe tbody tr th:only-of-type {\n",
       "        vertical-align: middle;\n",
       "    }\n",
       "\n",
       "    .dataframe tbody tr th {\n",
       "        vertical-align: top;\n",
       "    }\n",
       "\n",
       "    .dataframe thead th {\n",
       "        text-align: right;\n",
       "    }\n",
       "</style>\n",
       "<table border=\"1\" class=\"dataframe\">\n",
       "  <thead>\n",
       "    <tr style=\"text-align: right;\">\n",
       "      <th></th>\n",
       "      <th>about the</th>\n",
       "      <th>all the</th>\n",
       "      <th>and it</th>\n",
       "      <th>and the</th>\n",
       "      <th>as the</th>\n",
       "      <th>at all</th>\n",
       "      <th>at the</th>\n",
       "      <th>book is</th>\n",
       "      <th>book was</th>\n",
       "      <th>bought this</th>\n",
       "      <th>...</th>\n",
       "      <th>was very</th>\n",
       "      <th>with the</th>\n",
       "      <th>with this</th>\n",
       "      <th>would be</th>\n",
       "      <th>would have</th>\n",
       "      <th>you are</th>\n",
       "      <th>you can</th>\n",
       "      <th>you have</th>\n",
       "      <th>you want</th>\n",
       "      <th>you will</th>\n",
       "    </tr>\n",
       "  </thead>\n",
       "  <tbody>\n",
       "    <tr>\n",
       "      <th>0</th>\n",
       "      <td>0</td>\n",
       "      <td>0</td>\n",
       "      <td>0</td>\n",
       "      <td>0</td>\n",
       "      <td>0</td>\n",
       "      <td>0</td>\n",
       "      <td>0</td>\n",
       "      <td>0</td>\n",
       "      <td>0</td>\n",
       "      <td>0</td>\n",
       "      <td>...</td>\n",
       "      <td>0</td>\n",
       "      <td>0</td>\n",
       "      <td>0</td>\n",
       "      <td>0</td>\n",
       "      <td>0</td>\n",
       "      <td>0</td>\n",
       "      <td>0</td>\n",
       "      <td>0</td>\n",
       "      <td>0</td>\n",
       "      <td>0</td>\n",
       "    </tr>\n",
       "    <tr>\n",
       "      <th>1</th>\n",
       "      <td>0</td>\n",
       "      <td>0</td>\n",
       "      <td>0</td>\n",
       "      <td>0</td>\n",
       "      <td>0</td>\n",
       "      <td>0</td>\n",
       "      <td>0</td>\n",
       "      <td>0</td>\n",
       "      <td>0</td>\n",
       "      <td>0</td>\n",
       "      <td>...</td>\n",
       "      <td>0</td>\n",
       "      <td>0</td>\n",
       "      <td>0</td>\n",
       "      <td>1</td>\n",
       "      <td>0</td>\n",
       "      <td>1</td>\n",
       "      <td>0</td>\n",
       "      <td>0</td>\n",
       "      <td>0</td>\n",
       "      <td>0</td>\n",
       "    </tr>\n",
       "    <tr>\n",
       "      <th>2</th>\n",
       "      <td>0</td>\n",
       "      <td>1</td>\n",
       "      <td>0</td>\n",
       "      <td>1</td>\n",
       "      <td>0</td>\n",
       "      <td>0</td>\n",
       "      <td>0</td>\n",
       "      <td>0</td>\n",
       "      <td>0</td>\n",
       "      <td>0</td>\n",
       "      <td>...</td>\n",
       "      <td>0</td>\n",
       "      <td>0</td>\n",
       "      <td>0</td>\n",
       "      <td>1</td>\n",
       "      <td>0</td>\n",
       "      <td>0</td>\n",
       "      <td>0</td>\n",
       "      <td>0</td>\n",
       "      <td>0</td>\n",
       "      <td>0</td>\n",
       "    </tr>\n",
       "    <tr>\n",
       "      <th>3</th>\n",
       "      <td>0</td>\n",
       "      <td>0</td>\n",
       "      <td>1</td>\n",
       "      <td>0</td>\n",
       "      <td>0</td>\n",
       "      <td>0</td>\n",
       "      <td>0</td>\n",
       "      <td>0</td>\n",
       "      <td>0</td>\n",
       "      <td>0</td>\n",
       "      <td>...</td>\n",
       "      <td>0</td>\n",
       "      <td>0</td>\n",
       "      <td>0</td>\n",
       "      <td>0</td>\n",
       "      <td>0</td>\n",
       "      <td>0</td>\n",
       "      <td>0</td>\n",
       "      <td>0</td>\n",
       "      <td>0</td>\n",
       "      <td>0</td>\n",
       "    </tr>\n",
       "    <tr>\n",
       "      <th>4</th>\n",
       "      <td>0</td>\n",
       "      <td>0</td>\n",
       "      <td>0</td>\n",
       "      <td>1</td>\n",
       "      <td>0</td>\n",
       "      <td>0</td>\n",
       "      <td>0</td>\n",
       "      <td>0</td>\n",
       "      <td>0</td>\n",
       "      <td>0</td>\n",
       "      <td>...</td>\n",
       "      <td>0</td>\n",
       "      <td>0</td>\n",
       "      <td>0</td>\n",
       "      <td>0</td>\n",
       "      <td>0</td>\n",
       "      <td>0</td>\n",
       "      <td>0</td>\n",
       "      <td>0</td>\n",
       "      <td>0</td>\n",
       "      <td>0</td>\n",
       "    </tr>\n",
       "  </tbody>\n",
       "</table>\n",
       "<p>5 rows × 100 columns</p>\n",
       "</div>"
      ],
      "text/plain": [
       "   about the  all the  and it  and the  as the  at all  at the  book is  \\\n",
       "0          0        0       0        0       0       0       0        0   \n",
       "1          0        0       0        0       0       0       0        0   \n",
       "2          0        1       0        1       0       0       0        0   \n",
       "3          0        0       1        0       0       0       0        0   \n",
       "4          0        0       0        1       0       0       0        0   \n",
       "\n",
       "   book was  bought this  ...  was very  with the  with this  would be  \\\n",
       "0         0            0  ...         0         0          0         0   \n",
       "1         0            0  ...         0         0          0         1   \n",
       "2         0            0  ...         0         0          0         1   \n",
       "3         0            0  ...         0         0          0         0   \n",
       "4         0            0  ...         0         0          0         0   \n",
       "\n",
       "   would have  you are  you can  you have  you want  you will  \n",
       "0           0        0        0         0         0         0  \n",
       "1           0        1        0         0         0         0  \n",
       "2           0        0        0         0         0         0  \n",
       "3           0        0        0         0         0         0  \n",
       "4           0        0        0         0         0         0  \n",
       "\n",
       "[5 rows x 100 columns]"
      ]
     },
     "execution_count": 36,
     "metadata": {},
     "output_type": "execute_result"
    }
   ],
   "source": [
    "# Build the vectorizer, specify token sequence and fit\n",
    "vect = CountVectorizer(ngram_range=(2,2), max_features=100)\n",
    "vect.fit(amazon.review)\n",
    "\n",
    "# Transform the review column\n",
    "X_review = vect.transform(amazon.review)\n",
    "\n",
    "# Create the bow representation\n",
    "X_df = pd.DataFrame(X_review.toarray(), columns=vect.get_feature_names())\n",
    "X_df.head()"
   ]
  },
  {
   "cell_type": "code",
   "execution_count": 38,
   "metadata": {},
   "outputs": [
    {
     "data": {
      "text/html": [
       "<div>\n",
       "<style scoped>\n",
       "    .dataframe tbody tr th:only-of-type {\n",
       "        vertical-align: middle;\n",
       "    }\n",
       "\n",
       "    .dataframe tbody tr th {\n",
       "        vertical-align: top;\n",
       "    }\n",
       "\n",
       "    .dataframe thead th {\n",
       "        text-align: right;\n",
       "    }\n",
       "</style>\n",
       "<table border=\"1\" class=\"dataframe\">\n",
       "  <thead>\n",
       "    <tr style=\"text-align: right;\">\n",
       "      <th></th>\n",
       "      <th>able to</th>\n",
       "      <th>about how</th>\n",
       "      <th>about it</th>\n",
       "      <th>about the</th>\n",
       "      <th>about this</th>\n",
       "      <th>after reading</th>\n",
       "      <th>after the</th>\n",
       "      <th>again and</th>\n",
       "      <th>ago and</th>\n",
       "      <th>agree with</th>\n",
       "      <th>...</th>\n",
       "      <th>you think</th>\n",
       "      <th>you to</th>\n",
       "      <th>you ve</th>\n",
       "      <th>you want</th>\n",
       "      <th>you will</th>\n",
       "      <th>you won</th>\n",
       "      <th>you would</th>\n",
       "      <th>your money</th>\n",
       "      <th>your own</th>\n",
       "      <th>your time</th>\n",
       "    </tr>\n",
       "  </thead>\n",
       "  <tbody>\n",
       "    <tr>\n",
       "      <th>0</th>\n",
       "      <td>0</td>\n",
       "      <td>0</td>\n",
       "      <td>0</td>\n",
       "      <td>0</td>\n",
       "      <td>0</td>\n",
       "      <td>0</td>\n",
       "      <td>0</td>\n",
       "      <td>0</td>\n",
       "      <td>0</td>\n",
       "      <td>0</td>\n",
       "      <td>...</td>\n",
       "      <td>0</td>\n",
       "      <td>0</td>\n",
       "      <td>0</td>\n",
       "      <td>0</td>\n",
       "      <td>0</td>\n",
       "      <td>0</td>\n",
       "      <td>0</td>\n",
       "      <td>0</td>\n",
       "      <td>0</td>\n",
       "      <td>0</td>\n",
       "    </tr>\n",
       "    <tr>\n",
       "      <th>1</th>\n",
       "      <td>0</td>\n",
       "      <td>0</td>\n",
       "      <td>0</td>\n",
       "      <td>0</td>\n",
       "      <td>0</td>\n",
       "      <td>0</td>\n",
       "      <td>0</td>\n",
       "      <td>0</td>\n",
       "      <td>0</td>\n",
       "      <td>0</td>\n",
       "      <td>...</td>\n",
       "      <td>0</td>\n",
       "      <td>0</td>\n",
       "      <td>0</td>\n",
       "      <td>0</td>\n",
       "      <td>0</td>\n",
       "      <td>0</td>\n",
       "      <td>0</td>\n",
       "      <td>0</td>\n",
       "      <td>0</td>\n",
       "      <td>0</td>\n",
       "    </tr>\n",
       "    <tr>\n",
       "      <th>2</th>\n",
       "      <td>0</td>\n",
       "      <td>0</td>\n",
       "      <td>0</td>\n",
       "      <td>0</td>\n",
       "      <td>0</td>\n",
       "      <td>0</td>\n",
       "      <td>0</td>\n",
       "      <td>0</td>\n",
       "      <td>0</td>\n",
       "      <td>0</td>\n",
       "      <td>...</td>\n",
       "      <td>0</td>\n",
       "      <td>0</td>\n",
       "      <td>2</td>\n",
       "      <td>0</td>\n",
       "      <td>0</td>\n",
       "      <td>0</td>\n",
       "      <td>0</td>\n",
       "      <td>0</td>\n",
       "      <td>0</td>\n",
       "      <td>0</td>\n",
       "    </tr>\n",
       "    <tr>\n",
       "      <th>3</th>\n",
       "      <td>0</td>\n",
       "      <td>0</td>\n",
       "      <td>0</td>\n",
       "      <td>0</td>\n",
       "      <td>0</td>\n",
       "      <td>0</td>\n",
       "      <td>0</td>\n",
       "      <td>0</td>\n",
       "      <td>0</td>\n",
       "      <td>0</td>\n",
       "      <td>...</td>\n",
       "      <td>0</td>\n",
       "      <td>0</td>\n",
       "      <td>0</td>\n",
       "      <td>0</td>\n",
       "      <td>0</td>\n",
       "      <td>0</td>\n",
       "      <td>0</td>\n",
       "      <td>0</td>\n",
       "      <td>0</td>\n",
       "      <td>0</td>\n",
       "    </tr>\n",
       "    <tr>\n",
       "      <th>4</th>\n",
       "      <td>0</td>\n",
       "      <td>0</td>\n",
       "      <td>0</td>\n",
       "      <td>0</td>\n",
       "      <td>0</td>\n",
       "      <td>0</td>\n",
       "      <td>0</td>\n",
       "      <td>0</td>\n",
       "      <td>0</td>\n",
       "      <td>0</td>\n",
       "      <td>...</td>\n",
       "      <td>0</td>\n",
       "      <td>0</td>\n",
       "      <td>1</td>\n",
       "      <td>0</td>\n",
       "      <td>0</td>\n",
       "      <td>0</td>\n",
       "      <td>0</td>\n",
       "      <td>0</td>\n",
       "      <td>0</td>\n",
       "      <td>0</td>\n",
       "    </tr>\n",
       "  </tbody>\n",
       "</table>\n",
       "<p>5 rows × 1000 columns</p>\n",
       "</div>"
      ],
      "text/plain": [
       "   able to  about how  about it  about the  about this  after reading  \\\n",
       "0        0          0         0          0           0              0   \n",
       "1        0          0         0          0           0              0   \n",
       "2        0          0         0          0           0              0   \n",
       "3        0          0         0          0           0              0   \n",
       "4        0          0         0          0           0              0   \n",
       "\n",
       "   after the  again and  ago and  agree with  ...  you think  you to  you ve  \\\n",
       "0          0          0        0           0  ...          0       0       0   \n",
       "1          0          0        0           0  ...          0       0       0   \n",
       "2          0          0        0           0  ...          0       0       2   \n",
       "3          0          0        0           0  ...          0       0       0   \n",
       "4          0          0        0           0  ...          0       0       1   \n",
       "\n",
       "   you want  you will  you won  you would  your money  your own  your time  \n",
       "0         0         0        0          0           0         0          0  \n",
       "1         0         0        0          0           0         0          0  \n",
       "2         0         0        0          0           0         0          0  \n",
       "3         0         0        0          0           0         0          0  \n",
       "4         0         0        0          0           0         0          0  \n",
       "\n",
       "[5 rows x 1000 columns]"
      ]
     },
     "execution_count": 38,
     "metadata": {},
     "output_type": "execute_result"
    }
   ],
   "source": [
    "# Build the vectorizer, specify max features and fit\n",
    "vect = CountVectorizer(max_features=1000, ngram_range=(2, 2), max_df=500)\n",
    "vect.fit(amazon.review)\n",
    "\n",
    "# Transform the review\n",
    "X_review = vect.transform(amazon.review)\n",
    "\n",
    "# Create a DataFrame from the bow representation\n",
    "X_df = pd.DataFrame(X_review.toarray(), columns=vect.get_feature_names())\n",
    "X_df.head()"
   ]
  },
  {
   "cell_type": "markdown",
   "metadata": {},
   "source": [
    "## Extracting Features from Text"
   ]
  },
  {
   "cell_type": "markdown",
   "metadata": {},
   "source": [
    "### Word Counts"
   ]
  },
  {
   "cell_type": "code",
   "execution_count": 40,
   "metadata": {},
   "outputs": [
    {
     "name": "stdout",
     "output_type": "stream",
     "text": [
      "['Stuning', 'even', 'for', 'the', 'non-gamer', ':', 'This', 'sound', 'track', 'was', 'beautiful', '!', 'It', 'paints', 'the', 'senery', 'in', 'your', 'mind', 'so', 'well', 'I', 'would', 'recomend', 'it', 'even', 'to', 'people', 'who', 'hate', 'vid', '.', 'game', 'music', '!', 'I', 'have', 'played', 'the', 'game', 'Chrono', 'Cross', 'but', 'out', 'of', 'all', 'of', 'the', 'games', 'I', 'have', 'ever', 'played', 'it', 'has', 'the', 'best', 'music', '!', 'It', 'backs', 'away', 'from', 'crude', 'keyboarding', 'and', 'takes', 'a', 'fresher', 'step', 'with', 'grate', 'guitars', 'and', 'soulful', 'orchestras', '.', 'It', 'would', 'impress', 'anyone', 'who', 'cares', 'to', 'listen', '!', '^_^']\n"
     ]
    }
   ],
   "source": [
    "# Transform the string to word tokens\n",
    "print(word_tokenize(amazon.review[0]))"
   ]
  },
  {
   "cell_type": "code",
   "execution_count": 48,
   "metadata": {},
   "outputs": [
    {
     "name": "stdout",
     "output_type": "stream",
     "text": [
      "[['Stuning', 'even', 'for', 'the', 'non-gamer', ':', 'This', 'sound', 'track', 'was', 'beautiful', '!', 'It', 'paints', 'the', 'senery', 'in', 'your', 'mind', 'so', 'well', 'I', 'would', 'recomend', 'it', 'even', 'to', 'people', 'who', 'hate', 'vid', '.', 'game', 'music', '!', 'I', 'have', 'played', 'the', 'game', 'Chrono', 'Cross', 'but', 'out', 'of', 'all', 'of', 'the', 'games', 'I', 'have', 'ever', 'played', 'it', 'has', 'the', 'best', 'music', '!', 'It', 'backs', 'away', 'from', 'crude', 'keyboarding', 'and', 'takes', 'a', 'fresher', 'step', 'with', 'grate', 'guitars', 'and', 'soulful', 'orchestras', '.', 'It', 'would', 'impress', 'anyone', 'who', 'cares', 'to', 'listen', '!', '^_^'], ['The', 'best', 'soundtrack', 'ever', 'to', 'anything', '.', ':', 'I', \"'m\", 'reading', 'a', 'lot', 'of', 'reviews', 'saying', 'that', 'this', 'is', 'the', 'best', \"'game\", 'soundtrack', \"'\", 'and', 'I', 'figured', 'that', 'I', \"'d\", 'write', 'a', 'review', 'to', 'disagree', 'a', 'bit', '.', 'This', 'in', 'my', 'opinino', 'is', 'Yasunori', 'Mitsuda', \"'s\", 'ultimate', 'masterpiece', '.', 'The', 'music', 'is', 'timeless', 'and', 'I', \"'m\", 'been', 'listening', 'to', 'it', 'for', 'years', 'now', 'and', 'its', 'beauty', 'simply', 'refuses', 'to', 'fade.The', 'price', 'tag', 'on', 'this', 'is', 'pretty', 'staggering', 'I', 'must', 'say', ',', 'but', 'if', 'you', 'are', 'going', 'to', 'buy', 'any', 'cd', 'for', 'this', 'much', 'money', ',', 'this', 'is', 'the', 'only', 'one', 'that', 'I', 'feel', 'would', 'be', 'worth', 'every', 'penny', '.']]\n"
     ]
    }
   ],
   "source": [
    "# Tokenize the reviews\n",
    "review_tokens = [word_tokenize(item) for item in amazon.review]\n",
    "print(review_tokens[:2])"
   ]
  },
  {
   "cell_type": "code",
   "execution_count": 51,
   "metadata": {},
   "outputs": [
    {
     "data": {
      "text/html": [
       "<div>\n",
       "<style scoped>\n",
       "    .dataframe tbody tr th:only-of-type {\n",
       "        vertical-align: middle;\n",
       "    }\n",
       "\n",
       "    .dataframe tbody tr th {\n",
       "        vertical-align: top;\n",
       "    }\n",
       "\n",
       "    .dataframe thead th {\n",
       "        text-align: right;\n",
       "    }\n",
       "</style>\n",
       "<table border=\"1\" class=\"dataframe\">\n",
       "  <thead>\n",
       "    <tr style=\"text-align: right;\">\n",
       "      <th></th>\n",
       "      <th>score</th>\n",
       "      <th>review</th>\n",
       "      <th>n_words</th>\n",
       "    </tr>\n",
       "  </thead>\n",
       "  <tbody>\n",
       "    <tr>\n",
       "      <th>0</th>\n",
       "      <td>1</td>\n",
       "      <td>Stuning even for the non-gamer: This sound tr...</td>\n",
       "      <td>87</td>\n",
       "    </tr>\n",
       "    <tr>\n",
       "      <th>1</th>\n",
       "      <td>1</td>\n",
       "      <td>The best soundtrack ever to anything.: I'm re...</td>\n",
       "      <td>109</td>\n",
       "    </tr>\n",
       "    <tr>\n",
       "      <th>2</th>\n",
       "      <td>1</td>\n",
       "      <td>Amazing!: This soundtrack is my favorite musi...</td>\n",
       "      <td>165</td>\n",
       "    </tr>\n",
       "    <tr>\n",
       "      <th>3</th>\n",
       "      <td>1</td>\n",
       "      <td>Excellent Soundtrack: I truly like this sound...</td>\n",
       "      <td>145</td>\n",
       "    </tr>\n",
       "    <tr>\n",
       "      <th>4</th>\n",
       "      <td>1</td>\n",
       "      <td>Remember, Pull Your Jaw Off The Floor After H...</td>\n",
       "      <td>109</td>\n",
       "    </tr>\n",
       "  </tbody>\n",
       "</table>\n",
       "</div>"
      ],
      "text/plain": [
       "   score                                             review  n_words\n",
       "0      1   Stuning even for the non-gamer: This sound tr...       87\n",
       "1      1   The best soundtrack ever to anything.: I'm re...      109\n",
       "2      1   Amazing!: This soundtrack is my favorite musi...      165\n",
       "3      1   Excellent Soundtrack: I truly like this sound...      145\n",
       "4      1   Remember, Pull Your Jaw Off The Floor After H...      109"
      ]
     },
     "execution_count": 51,
     "metadata": {},
     "output_type": "execute_result"
    }
   ],
   "source": [
    "# Create an empty list to store the length of reviews\n",
    "len_tokens = []\n",
    "\n",
    "# Iterate over the word_tokens list and determine the length of each item\n",
    "for i in range(len(review_tokens)):\n",
    "     len_tokens.append(len(review_tokens[i]))\n",
    "\n",
    "# Create a new feature for the lengh of each review\n",
    "amazon['n_words'] = len_tokens \n",
    "\n",
    "amazon.head()"
   ]
  },
  {
   "cell_type": "markdown",
   "metadata": {},
   "source": [
    "### Language Detection"
   ]
  },
  {
   "cell_type": "markdown",
   "metadata": {},
   "source": [
    "#### `langdetect`"
   ]
  },
  {
   "cell_type": "code",
   "execution_count": 66,
   "metadata": {},
   "outputs": [
    {
     "name": "stdout",
     "output_type": "stream",
     "text": [
      "[de:0.9999970729529929]\n",
      "[tr:0.9999973965203564]\n",
      "[de:0.8571404875236557, tr:0.14285894819212433]\n"
     ]
    }
   ],
   "source": [
    "# Import the language detection function and package\n",
    "# from langdetect import detect_langs # ind out the probabilities for the top languages\n",
    "# from langdetect import detect # detect the language of the text\n",
    "\n",
    "deu = \"Ich komme aus der Türkei.\"\n",
    "tr = \"Türkiye'den geliyorum.\"\n",
    "mix = \"Ich komme aus der Türkei. geliyorum.\"\n",
    "\n",
    "# Detect the language of the string\n",
    "print(detect_langs(deu))\n",
    "print(detect_langs(tr))\n",
    "print(detect_langs(mix))"
   ]
  },
  {
   "cell_type": "markdown",
   "metadata": {},
   "source": [
    "> [Note](https://github.com/Mimino666/langdetect): `langdetect`s language detection algorithm is non-deterministic, which means that if you try to run it on a text which is either too short or too ambiguous, you might get different results everytime you run it. "
   ]
  },
  {
   "cell_type": "code",
   "execution_count": 73,
   "metadata": {},
   "outputs": [
    {
     "name": "stdout",
     "output_type": "stream",
     "text": [
      "The detected languages are:  [[de:0.9999972083375406], [tr:0.9999977855242717], [de:0.999994334217459]]\n"
     ]
    }
   ],
   "source": [
    "sentences = [deu, tr, mix]\n",
    "languages = []\n",
    "\n",
    "# Loop over the sentences in the list and detect their language\n",
    "for sentence in range(len(sentences)):\n",
    "    languages.append(detect_langs(sentences[sentence]))\n",
    "    \n",
    "print('The detected languages are: ', languages)"
   ]
  },
  {
   "cell_type": "markdown",
   "metadata": {},
   "source": [
    "#### `fasttext`"
   ]
  },
  {
   "cell_type": "code",
   "execution_count": 67,
   "metadata": {},
   "outputs": [
    {
     "name": "stdout",
     "output_type": "stream",
     "text": [
      "(('__label__de',), array([0.99987382]))\n",
      "(('__label__tr',), array([0.99999571]))\n",
      "(('__label__de',), array([0.87219495]))\n"
     ]
    },
    {
     "name": "stderr",
     "output_type": "stream",
     "text": [
      "\n"
     ]
    }
   ],
   "source": [
    "# Load the pretrained language model\n",
    "language_model = fasttext.load_model('data/lid.176.bin')\n",
    "\n",
    "# Print results\n",
    "print(language_model.predict(deu))\n",
    "print(language_model.predict(tr))\n",
    "print(language_model.predict(mix))"
   ]
  },
  {
   "cell_type": "markdown",
   "metadata": {},
   "source": [
    "## Preprocessing (Tweet Data Example)"
   ]
  },
  {
   "cell_type": "code",
   "execution_count": 2,
   "metadata": {},
   "outputs": [
    {
     "data": {
      "text/html": [
       "<div>\n",
       "<style scoped>\n",
       "    .dataframe tbody tr th:only-of-type {\n",
       "        vertical-align: middle;\n",
       "    }\n",
       "\n",
       "    .dataframe tbody tr th {\n",
       "        vertical-align: top;\n",
       "    }\n",
       "\n",
       "    .dataframe thead th {\n",
       "        text-align: right;\n",
       "    }\n",
       "</style>\n",
       "<table border=\"1\" class=\"dataframe\">\n",
       "  <thead>\n",
       "    <tr style=\"text-align: right;\">\n",
       "      <th></th>\n",
       "      <th>airline_sentiment</th>\n",
       "      <th>text</th>\n",
       "      <th>negativereason</th>\n",
       "    </tr>\n",
       "  </thead>\n",
       "  <tbody>\n",
       "    <tr>\n",
       "      <th>3</th>\n",
       "      <td>negative</td>\n",
       "      <td>@VirginAmerica it's really aggressive to blast...</td>\n",
       "      <td>Bad Flight</td>\n",
       "    </tr>\n",
       "    <tr>\n",
       "      <th>4</th>\n",
       "      <td>negative</td>\n",
       "      <td>@VirginAmerica and it's a really big bad thing...</td>\n",
       "      <td>Can't Tell</td>\n",
       "    </tr>\n",
       "    <tr>\n",
       "      <th>5</th>\n",
       "      <td>negative</td>\n",
       "      <td>@VirginAmerica seriously would pay $30 a fligh...</td>\n",
       "      <td>Can't Tell</td>\n",
       "    </tr>\n",
       "    <tr>\n",
       "      <th>15</th>\n",
       "      <td>negative</td>\n",
       "      <td>@VirginAmerica SFO-PDX schedule is still MIA.</td>\n",
       "      <td>Late Flight</td>\n",
       "    </tr>\n",
       "    <tr>\n",
       "      <th>17</th>\n",
       "      <td>negative</td>\n",
       "      <td>@VirginAmerica  I flew from NYC to SFO last we...</td>\n",
       "      <td>Bad Flight</td>\n",
       "    </tr>\n",
       "  </tbody>\n",
       "</table>\n",
       "</div>"
      ],
      "text/plain": [
       "   airline_sentiment                                               text  \\\n",
       "3           negative  @VirginAmerica it's really aggressive to blast...   \n",
       "4           negative  @VirginAmerica and it's a really big bad thing...   \n",
       "5           negative  @VirginAmerica seriously would pay $30 a fligh...   \n",
       "15          negative      @VirginAmerica SFO-PDX schedule is still MIA.   \n",
       "17          negative  @VirginAmerica  I flew from NYC to SFO last we...   \n",
       "\n",
       "   negativereason  \n",
       "3      Bad Flight  \n",
       "4      Can't Tell  \n",
       "5      Can't Tell  \n",
       "15    Late Flight  \n",
       "17     Bad Flight  "
      ]
     },
     "execution_count": 2,
     "metadata": {},
     "output_type": "execute_result"
    }
   ],
   "source": [
    "# Read data\n",
    "tweets = pd.read_csv(\"data/sentiment/airline_tweets.csv\")\n",
    "tweets = tweets[['airline_sentiment', 'text', 'negativereason']]\n",
    "\n",
    "# Drop rows with missing values\n",
    "tweets.dropna(inplace=True)\n",
    "\n",
    "# Print head of tweets dataset\n",
    "tweets.head()"
   ]
  },
  {
   "cell_type": "code",
   "execution_count": 111,
   "metadata": {},
   "outputs": [
    {
     "data": {
      "text/plain": [
       "(9178, 3)"
      ]
     },
     "execution_count": 111,
     "metadata": {},
     "output_type": "execute_result"
    }
   ],
   "source": [
    "tweets.shape"
   ]
  },
  {
   "cell_type": "markdown",
   "metadata": {},
   "source": [
    "### Stop Words"
   ]
  },
  {
   "cell_type": "code",
   "execution_count": 112,
   "metadata": {},
   "outputs": [
    {
     "name": "stdout",
     "output_type": "stream",
     "text": [
      "   00  000  000419  000ft  000lbs  0016  00a  00am  00p  00pm  ...  zone  \\\n",
      "0   0    0       0      0       0     0    0     0    0     0  ...     0   \n",
      "1   0    0       0      0       0     0    0     0    0     0  ...     0   \n",
      "2   0    0       0      0       0     0    0     0    0     0  ...     0   \n",
      "3   0    0       0      0       0     0    0     0    0     0  ...     0   \n",
      "4   0    0       0      0       0     0    0     0    0     0  ...     0   \n",
      "\n",
      "   zones  zoom  zouowgv3q6  zrh  zukes  zurich  zv6cfpohl5  zvfmxnuelj  \\\n",
      "0      0     0           0    0      0       0           0           0   \n",
      "1      0     0           0    0      0       0           0           0   \n",
      "2      0     0           0    0      0       0           0           0   \n",
      "3      0     0           0    0      0       0           0           0   \n",
      "4      0     0           0    0      0       0           0           0   \n",
      "\n",
      "   zzps5ywve2  \n",
      "0           0  \n",
      "1           0  \n",
      "2           0  \n",
      "3           0  \n",
      "4           0  \n",
      "\n",
      "[5 rows x 10559 columns]\n"
     ]
    }
   ],
   "source": [
    "# Define the stop words\n",
    "my_stop_words = ENGLISH_STOP_WORDS.union(['airline', 'airlines', '@'])\n",
    "\n",
    "# Build and fit the vectorizer\n",
    "vect = CountVectorizer(stop_words=my_stop_words)\n",
    "vect.fit(tweets.text)\n",
    "\n",
    "# Create the bow representation\n",
    "X_review = vect.transform(tweets.text)\n",
    "\n",
    "# Create the data frame\n",
    "X_df = pd.DataFrame(X_review.toarray(), columns=vect.get_feature_names())\n",
    "print(X_df.head())"
   ]
  },
  {
   "cell_type": "code",
   "execution_count": 115,
   "metadata": {},
   "outputs": [
    {
     "name": "stdout",
     "output_type": "stream",
     "text": [
      "['zira2z3udc', 'zkatcher', 'zkoe6clgiu', 'zl4bvexmcj', 'zombie', 'zone', 'zones', 'zoom', 'zouowgv3q6', 'zrh', 'zukes', 'zurich', 'zv6cfpohl5', 'zvfmxnuelj', 'zzps5ywve2']\n",
      "['attendant', 'bad', 'booking', 'cancelled', 'complaints', 'customer', 'damaged', 'flight', 'issue', 'late', 'longlines', 'lost', 'luggage', 'problems', 'service', 'tell']\n"
     ]
    }
   ],
   "source": [
    "# Define the stop words\n",
    "my_stop_words = ENGLISH_STOP_WORDS.union(['airline', 'airlines', '@', 'am', 'pm'])\n",
    " \n",
    "# Build and fit the vectorizers\n",
    "vect1 = CountVectorizer(stop_words=my_stop_words)\n",
    "vect2 = CountVectorizer(stop_words=ENGLISH_STOP_WORDS) \n",
    "vect1.fit(tweets.text)\n",
    "vect2.fit(tweets.negativereason)\n",
    "\n",
    "# Print the last 15 features from the first, and all from second vectorizer\n",
    "print(vect1.get_feature_names()[-15:])\n",
    "print(vect2.get_feature_names())"
   ]
  },
  {
   "cell_type": "markdown",
   "metadata": {},
   "source": [
    "### Specifying a Token Pattern\n",
    "\n",
    "Specifying a custom token pattern instead of using the predefined one is a nice way to limit the size of the vocabulary and use problem specific tokens. Default regexp token pattern in CountVectorizer,  `(?u)\\b\\w\\w+\\b`, selects tokens of **2 or more alphanumeric characters** (punctuation is completely ignored and always treated as a token separator).\n",
    "\n",
    "- `(?u)`: [re.U](https://docs.python.org/2/library/re.html#re.U)\n",
    "- `\\b`: matches at a position (zero-length) that is called a \"word boundary\"\n",
    "- `\\w`: word characters. equivalent to `[a-zA-Z0-9_]`\n",
    "- `\\b\\w\\w+\\b`: 2 or more alphanumeric characters\n",
    "\n",
    "Important: This pattern ignores words like \"don't\" or \"haven't\". However, they may be useful in sentiment analysis."
   ]
  },
  {
   "cell_type": "code",
   "execution_count": 124,
   "metadata": {},
   "outputs": [
    {
     "name": "stdout",
     "output_type": "stream",
     "text": [
      "['hashtag', 'mention111', '0tohero', 'am', 'happy', 'great_work']\n"
     ]
    }
   ],
   "source": [
    "my_string = \"#hashtag @mention111 0tohero i am happy... great_work\"\n",
    "\n",
    "# Split my_string on given pattern and print the result\n",
    "pattern = r\"(?u)\\b\\w\\w+\\b\"\n",
    "print(re.findall(pattern, my_string))"
   ]
  },
  {
   "cell_type": "code",
   "execution_count": 130,
   "metadata": {},
   "outputs": [
    {
     "name": "stdout",
     "output_type": "stream",
     "text": [
      "['hashtag', 'am', 'happy', 'great_work']\n"
     ]
    }
   ],
   "source": [
    "my_string = \"#hashtag @mention111 0tohero i am happy... great_work\"\n",
    "\n",
    "# Split my_string on given and print the result\n",
    "pattern = r\"\\b[^\\d\\W][^\\d\\W]+\\b\" # words with 2+ characters without digits\n",
    "print(re.findall(pattern, my_string))"
   ]
  },
  {
   "cell_type": "code",
   "execution_count": 133,
   "metadata": {},
   "outputs": [
    {
     "name": "stdout",
     "output_type": "stream",
     "text": [
      "['#', 'hashtag', '@', 'mention111', '0tohero', 'i', 'am', 'happy', '...', 'great_work']\n"
     ]
    }
   ],
   "source": [
    "# nltk function\n",
    "print(word_tokenize(my_string))"
   ]
  },
  {
   "cell_type": "code",
   "execution_count": 134,
   "metadata": {},
   "outputs": [
    {
     "name": "stdout",
     "output_type": "stream",
     "text": [
      "Original tokens:  ['@', 'VirginAmerica', 'it', \"'s\", 'really', 'aggressive', 'to', 'blast', 'obnoxious', '``', 'entertainment', \"''\", 'in', 'your', 'guests', \"'\", 'faces', '&', 'amp', ';', 'they', 'have', 'little', 'recourse']\n",
      "Cleaned tokens:  ['VirginAmerica', 'it', 'really', 'aggressive', 'to', 'blast', 'obnoxious', 'entertainment', 'in', 'your', 'guests', 'faces', 'amp', 'they', 'have', 'little', 'recourse']\n"
     ]
    }
   ],
   "source": [
    "# Tokenize the text column\n",
    "word_tokens = [word_tokenize(review) for review in tweets.text]\n",
    "print('Original tokens: ', word_tokens[0])\n",
    "\n",
    "# Filter out non-letter characters\n",
    "cleaned_tokens = [[word for word in item if word.isalpha()] for item in word_tokens]\n",
    "print('Cleaned tokens: ', cleaned_tokens[0])"
   ]
  },
  {
   "cell_type": "code",
   "execution_count": 8,
   "metadata": {},
   "outputs": [
    {
     "data": {
      "text/plain": [
       "3     @VirginAmerica it's really aggressive to blast...\n",
       "4     @VirginAmerica and it's a really big bad thing...\n",
       "5     @VirginAmerica seriously would pay $30 a fligh...\n",
       "15        @VirginAmerica SFO-PDX schedule is still MIA.\n",
       "17    @VirginAmerica  I flew from NYC to SFO last we...\n",
       "20    @VirginAmerica why are your first fares in May...\n",
       "24    @VirginAmerica you guys messed up my seating.....\n",
       "25    @VirginAmerica status match program.  I applie...\n",
       "26    @VirginAmerica What happened 2 ur vegan food o...\n",
       "28    @VirginAmerica amazing to me that we can't get...\n",
       "Name: text, dtype: object"
      ]
     },
     "execution_count": 8,
     "metadata": {},
     "output_type": "execute_result"
    }
   ],
   "source": [
    "tweets.text[:10]"
   ]
  },
  {
   "cell_type": "code",
   "execution_count": 13,
   "metadata": {},
   "outputs": [
    {
     "name": "stdout",
     "output_type": "stream",
     "text": [
      "Last item in alphabetic list:  ['VirginAmerica', 'seriously', 'would', 'pay', 'a', 'flight', 'for', 'seats', 'that', 'did', 'have', 'this', 'playing', 'it', 'really', 'the', 'only', 'bad', 'thing', 'about', 'flying', 'VA']\n",
      "\n",
      "Last item in list of alphanumerics:  ['VirginAmerica', 'seriously', 'would', 'pay', '30', 'a', 'flight', 'for', 'seats', 'that', 'did', 'have', 'this', 'playing', 'it', 'really', 'the', 'only', 'bad', 'thing', 'about', 'flying', 'VA']\n",
      "\n",
      "Last item in the list of digits:  ['30']\n"
     ]
    }
   ],
   "source": [
    "# Create a list of lists, containing the tokens from list_tweets\n",
    "tokens = [word_tokenize(item) for item in tweets.text[:3].tolist()]\n",
    "\n",
    "# Remove characters and digits , i.e. retain only letters\n",
    "letters = [[word for word in item if word.isalpha()] for item in tokens]\n",
    "# Remove characters, i.e. retain only letters and digits\n",
    "let_digits = [[word for word in item if word.isalnum()] for item in tokens]\n",
    "# Remove letters and characters, retain only digits\n",
    "digits = [[word for word in item if word.isdigit()] for item in tokens]\n",
    "\n",
    "# Print the last item in each list\n",
    "print('Last item in alphabetic list: ', letters[2])\n",
    "print('\\nLast item in list of alphanumerics: ', let_digits[2])\n",
    "print('\\nLast item in the list of digits: ', digits[2])"
   ]
  },
  {
   "cell_type": "code",
   "execution_count": 131,
   "metadata": {},
   "outputs": [
    {
     "name": "stdout",
     "output_type": "stream",
     "text": [
      "Length of vectorizer 1:  10836\n",
      "Length of vectorizer 2:  8917\n"
     ]
    }
   ],
   "source": [
    "# Build the first vectorizer\n",
    "vect1 = CountVectorizer().fit(tweets.text)\n",
    "vect1.transform(tweets.text)\n",
    "\n",
    "# Build the second vectorizer\n",
    "vect2 = CountVectorizer(token_pattern=r'\\b[^\\d\\W][^\\d\\W]+\\b').fit(tweets.text)\n",
    "vect2.transform(tweets.text)\n",
    "\n",
    "# Print out the length of each vectorizer\n",
    "print('Length of vectorizer 1: ', len(vect1.get_feature_names()))\n",
    "print('Length of vectorizer 2: ', len(vect2.get_feature_names()))"
   ]
  },
  {
   "cell_type": "markdown",
   "metadata": {},
   "source": [
    "### Stemming and Lemmatization\n",
    "\n",
    "\"**Stemming** usually refers to a crude heuristic process that chops off the ends of words in the hope of achieving this goal correctly most of the time, and often includes the removal of derivational affixes. \n",
    "\n",
    "**Lemmatization** usually refers to doing things properly with the use of a vocabulary and morphological analysis of words, normally aiming to remove inflectional endings only and to return the base or dictionary form of a word, which is known as the lemma.\" [Stanford NLP](https://nlp.stanford.edu/IR-book/html/htmledition/stemming-and-lemmatization-1.html)"
   ]
  },
  {
   "cell_type": "code",
   "execution_count": 17,
   "metadata": {},
   "outputs": [],
   "source": [
    "# Create a string\n",
    "morpheus = '''\n",
    "Have you ever had a dream, Neo, that you seemed so sure it was real? \n",
    "But if you were unable to wake up from that dream, how would you tell \n",
    "the difference between the dream world & the real world?\"\n",
    "\n",
    "'''\n",
    "# Initiate PorterStemmer and WordNetLemmatizer from NLTK\n",
    "porter = PorterStemmer()\n",
    "WNlemmatizer = WordNetLemmatizer()\n",
    "\n",
    "# Tokenize the string\n",
    "tokens = word_tokenize(morpheus)"
   ]
  },
  {
   "cell_type": "code",
   "execution_count": 21,
   "metadata": {},
   "outputs": [],
   "source": [
    "import time"
   ]
  },
  {
   "cell_type": "code",
   "execution_count": 22,
   "metadata": {},
   "outputs": [
    {
     "name": "stdout",
     "output_type": "stream",
     "text": [
      "Time taken for stemming in seconds:  0.0008540153503417969\n",
      "Stemmed tokens:  ['have', 'you', 'ever', 'had', 'a', 'dream', ',', 'neo', ',', 'that', 'you', 'seem', 'so', 'sure', 'it', 'wa', 'real', '?', 'but', 'if', 'were', 'unabl', 'to', 'wake', 'up', 'from', 'that', 'dream', ',', 'how', 'would', 'you', 'tell', 'the', 'differ', 'between', 'the', 'dream', 'world', '&', 'the', 'real', 'world', '?']\n"
     ]
    }
   ],
   "source": [
    "# Log the start time\n",
    "start_time = time.time()\n",
    "\n",
    "# Build a stemmed list\n",
    "stemmed_tokens = [porter.stem(token) for token in tokens] \n",
    "\n",
    "# Log the end time\n",
    "end_time = time.time()\n",
    "\n",
    "print('Time taken for stemming in seconds: ', end_time - start_time)\n",
    "print('Stemmed tokens: ', stemmed_tokens) "
   ]
  },
  {
   "cell_type": "code",
   "execution_count": 23,
   "metadata": {},
   "outputs": [
    {
     "name": "stdout",
     "output_type": "stream",
     "text": [
      "Time taken for lemmatizing in seconds:  1.5948243141174316\n",
      "Lemmatized tokens:  ['Have', 'you', 'ever', 'had', 'a', 'dream', ',', 'Neo', ',', 'that', 'you', 'seemed', 'so', 'sure', 'it', 'wa', 'real', '?', 'But', 'if', 'were', 'unable', 'to', 'wake', 'up', 'from', 'that', 'dream', ',', 'how', 'would', 'you', 'tell', 'the', 'difference', 'between', 'the', 'dream', 'world', '&', 'the', 'real', 'world', '?']\n"
     ]
    }
   ],
   "source": [
    "# Log the start time\n",
    "start_time = time.time()\n",
    "\n",
    "# Build a lemmatized list\n",
    "lem_tokens = [WNlemmatizer.lemmatize(token) for token in tokens]\n",
    "\n",
    "# Log the end time\n",
    "end_time = time.time()\n",
    "\n",
    "print('Time taken for lemmatizing in seconds: ', end_time - start_time)\n",
    "print('Lemmatized tokens: ', lem_tokens) "
   ]
  },
  {
   "cell_type": "markdown",
   "metadata": {},
   "source": [
    "Lemmatization take much more time than stemming. However, stemming produces roots of the words which may be meaningless, whereas lemmatization produces actual words."
   ]
  },
  {
   "cell_type": "code",
   "execution_count": 24,
   "metadata": {},
   "outputs": [],
   "source": [
    "deutsch = [\"Immer weniger Deutsche wollen auf dem Land leben, obwohl es dort genug Arbeit gibt.\",\n",
    "           \"Aber die öffentliche Infrastruktur ist schlechter als in der Stadt, und oft funktioniert das Internet nicht.\", \n",
    "           \"Das soll sich ändern.\"]"
   ]
  },
  {
   "cell_type": "code",
   "execution_count": 31,
   "metadata": {},
   "outputs": [
    {
     "name": "stdout",
     "output_type": "stream",
     "text": [
      "[['imm', 'wenig', 'deutsch', 'woll', 'auf', 'dem', 'land', 'leb', ',', 'obwohl', 'es', 'dort', 'genug', 'arbeit', 'gibt', '.'], ['aber', 'die', 'offent', 'infrastruktur', 'ist', 'schlecht', 'als', 'in', 'der', 'stadt', ',', 'und', 'oft', 'funktioniert', 'das', 'internet', 'nicht', '.'], ['das', 'soll', 'sich', 'and', '.']]\n"
     ]
    }
   ],
   "source": [
    "from nltk.stem import SnowballStemmer\n",
    "\n",
    "# Import the German SnowballStemmer\n",
    "GermanStemmer = SnowballStemmer(\"german\")\n",
    "\n",
    "# Create a list of tokens\n",
    "tokens = [word_tokenize(string) for string in deutsch] \n",
    "# Stem the list of tokens\n",
    "stemmed_tokens = [[GermanStemmer.stem(word) for word in token] for token in tokens]\n",
    "\n",
    "# Print the first item of the stemmed tokenss\n",
    "print(stemmed_tokens)"
   ]
  },
  {
   "cell_type": "markdown",
   "metadata": {},
   "source": [
    "**Applying to tweets:**"
   ]
  },
  {
   "cell_type": "code",
   "execution_count": 33,
   "metadata": {},
   "outputs": [
    {
     "name": "stdout",
     "output_type": "stream",
     "text": [
      "['@', 'virginamerica', 'it', \"'s\", 'realli', 'aggress', 'to', 'blast', 'obnoxi', '``', 'entertain', \"''\", 'in', 'your', 'guest', \"'\", 'face', '&', 'amp', ';', 'they', 'have', 'littl', 'recours']\n"
     ]
    }
   ],
   "source": [
    "# Call the stemmer\n",
    "porter = PorterStemmer()\n",
    "\n",
    "# Transform the array of tweets to tokens\n",
    "tokens = [word_tokenize(tweet) for tweet in tweets.text[:10]]\n",
    "# Stem the list of tokens\n",
    "stemmed_tokens = [[porter.stem(word) for word in tweet] for tweet in tokens] \n",
    "# Print the first element of the list\n",
    "print(stemmed_tokens[0])"
   ]
  },
  {
   "cell_type": "markdown",
   "metadata": {},
   "source": [
    "## Tf-Idf\n",
    "\n",
    "_Term Frequency (TF) :_ How often a given word appears within a document in the corpus.\n",
    "\n",
    "_Inverse Term Frequency (IDF):_  Log-ratio between the total number of documents and the number of documents that contain a specific word."
   ]
  },
  {
   "cell_type": "markdown",
   "metadata": {},
   "source": [
    "**Count Vectorizer vs Tf-Idf:**"
   ]
  },
  {
   "cell_type": "code",
   "execution_count": 40,
   "metadata": {},
   "outputs": [
    {
     "data": {
      "text/html": [
       "<div>\n",
       "<style scoped>\n",
       "    .dataframe tbody tr th:only-of-type {\n",
       "        vertical-align: middle;\n",
       "    }\n",
       "\n",
       "    .dataframe tbody tr th {\n",
       "        vertical-align: top;\n",
       "    }\n",
       "\n",
       "    .dataframe thead th {\n",
       "        text-align: right;\n",
       "    }\n",
       "</style>\n",
       "<table border=\"1\" class=\"dataframe\">\n",
       "  <thead>\n",
       "    <tr style=\"text-align: right;\">\n",
       "      <th></th>\n",
       "      <th>afraid</th>\n",
       "      <th>can</th>\n",
       "      <th>feel</th>\n",
       "      <th>know</th>\n",
       "      <th>now</th>\n",
       "      <th>out</th>\n",
       "      <th>re</th>\n",
       "      <th>that</th>\n",
       "      <th>there</th>\n",
       "      <th>you</th>\n",
       "    </tr>\n",
       "  </thead>\n",
       "  <tbody>\n",
       "    <tr>\n",
       "      <th>0</th>\n",
       "      <td>0</td>\n",
       "      <td>0</td>\n",
       "      <td>0</td>\n",
       "      <td>1</td>\n",
       "      <td>0</td>\n",
       "      <td>1</td>\n",
       "      <td>1</td>\n",
       "      <td>0</td>\n",
       "      <td>1</td>\n",
       "      <td>1</td>\n",
       "    </tr>\n",
       "    <tr>\n",
       "      <th>1</th>\n",
       "      <td>0</td>\n",
       "      <td>1</td>\n",
       "      <td>1</td>\n",
       "      <td>0</td>\n",
       "      <td>1</td>\n",
       "      <td>0</td>\n",
       "      <td>0</td>\n",
       "      <td>0</td>\n",
       "      <td>0</td>\n",
       "      <td>1</td>\n",
       "    </tr>\n",
       "    <tr>\n",
       "      <th>2</th>\n",
       "      <td>1</td>\n",
       "      <td>0</td>\n",
       "      <td>0</td>\n",
       "      <td>1</td>\n",
       "      <td>0</td>\n",
       "      <td>0</td>\n",
       "      <td>1</td>\n",
       "      <td>1</td>\n",
       "      <td>0</td>\n",
       "      <td>1</td>\n",
       "    </tr>\n",
       "  </tbody>\n",
       "</table>\n",
       "</div>"
      ],
      "text/plain": [
       "   afraid  can  feel  know  now  out  re  that  there  you\n",
       "0       0    0     0     1    0    1   1     0      1    1\n",
       "1       0    1     1     0    1    0   0     0      0    1\n",
       "2       1    0     0     1    0    0   1     1      0    1"
      ]
     },
     "execution_count": 40,
     "metadata": {},
     "output_type": "execute_result"
    }
   ],
   "source": [
    "neo = [\"I know you're out there.\",\n",
    "       \"I can feel you now.\",\n",
    "       \"I know that you're afraid.\"]\n",
    "\n",
    "# Call the vectorizer and fit it\n",
    "neo_vect = CountVectorizer().fit(neo)\n",
    "\n",
    "# Create the tfidf representation\n",
    "neo_count = neo_vect.transform(neo)\n",
    "\n",
    "# Print the result \n",
    "pd.DataFrame(neo_count.toarray(), columns=neo_vect.get_feature_names())"
   ]
  },
  {
   "cell_type": "code",
   "execution_count": 41,
   "metadata": {},
   "outputs": [
    {
     "data": {
      "text/html": [
       "<div>\n",
       "<style scoped>\n",
       "    .dataframe tbody tr th:only-of-type {\n",
       "        vertical-align: middle;\n",
       "    }\n",
       "\n",
       "    .dataframe tbody tr th {\n",
       "        vertical-align: top;\n",
       "    }\n",
       "\n",
       "    .dataframe thead th {\n",
       "        text-align: right;\n",
       "    }\n",
       "</style>\n",
       "<table border=\"1\" class=\"dataframe\">\n",
       "  <thead>\n",
       "    <tr style=\"text-align: right;\">\n",
       "      <th></th>\n",
       "      <th>afraid</th>\n",
       "      <th>can</th>\n",
       "      <th>feel</th>\n",
       "      <th>know</th>\n",
       "      <th>now</th>\n",
       "      <th>out</th>\n",
       "      <th>re</th>\n",
       "      <th>that</th>\n",
       "      <th>there</th>\n",
       "      <th>you</th>\n",
       "    </tr>\n",
       "  </thead>\n",
       "  <tbody>\n",
       "    <tr>\n",
       "      <th>0</th>\n",
       "      <td>0.000000</td>\n",
       "      <td>0.000000</td>\n",
       "      <td>0.000000</td>\n",
       "      <td>0.406192</td>\n",
       "      <td>0.000000</td>\n",
       "      <td>0.534093</td>\n",
       "      <td>0.406192</td>\n",
       "      <td>0.000000</td>\n",
       "      <td>0.534093</td>\n",
       "      <td>0.315444</td>\n",
       "    </tr>\n",
       "    <tr>\n",
       "      <th>1</th>\n",
       "      <td>0.000000</td>\n",
       "      <td>0.546454</td>\n",
       "      <td>0.546454</td>\n",
       "      <td>0.000000</td>\n",
       "      <td>0.546454</td>\n",
       "      <td>0.000000</td>\n",
       "      <td>0.000000</td>\n",
       "      <td>0.000000</td>\n",
       "      <td>0.000000</td>\n",
       "      <td>0.322745</td>\n",
       "    </tr>\n",
       "    <tr>\n",
       "      <th>2</th>\n",
       "      <td>0.534093</td>\n",
       "      <td>0.000000</td>\n",
       "      <td>0.000000</td>\n",
       "      <td>0.406192</td>\n",
       "      <td>0.000000</td>\n",
       "      <td>0.000000</td>\n",
       "      <td>0.406192</td>\n",
       "      <td>0.534093</td>\n",
       "      <td>0.000000</td>\n",
       "      <td>0.315444</td>\n",
       "    </tr>\n",
       "  </tbody>\n",
       "</table>\n",
       "</div>"
      ],
      "text/plain": [
       "     afraid       can      feel      know       now       out        re  \\\n",
       "0  0.000000  0.000000  0.000000  0.406192  0.000000  0.534093  0.406192   \n",
       "1  0.000000  0.546454  0.546454  0.000000  0.546454  0.000000  0.000000   \n",
       "2  0.534093  0.000000  0.000000  0.406192  0.000000  0.000000  0.406192   \n",
       "\n",
       "       that     there       you  \n",
       "0  0.000000  0.534093  0.315444  \n",
       "1  0.000000  0.000000  0.322745  \n",
       "2  0.534093  0.000000  0.315444  "
      ]
     },
     "execution_count": 41,
     "metadata": {},
     "output_type": "execute_result"
    }
   ],
   "source": [
    "neo = [\"I know you're out there.\",\n",
    "       \"I can feel you now.\",\n",
    "       \"I know that you're afraid.\"]\n",
    "\n",
    "# Call the vectorizer and fit it\n",
    "neo_vect = TfidfVectorizer().fit(neo)\n",
    "\n",
    "# Create the tfidf representation\n",
    "neo_tfidf = neo_vect.transform(neo)\n",
    "\n",
    "# Print the result \n",
    "pd.DataFrame(neo_tfidf.toarray(), columns=neo_vect.get_feature_names())"
   ]
  },
  {
   "cell_type": "markdown",
   "metadata": {},
   "source": [
    "### Tweet Example"
   ]
  },
  {
   "cell_type": "code",
   "execution_count": 43,
   "metadata": {},
   "outputs": [
    {
     "data": {
      "text/html": [
       "<div>\n",
       "<style scoped>\n",
       "    .dataframe tbody tr th:only-of-type {\n",
       "        vertical-align: middle;\n",
       "    }\n",
       "\n",
       "    .dataframe tbody tr th {\n",
       "        vertical-align: top;\n",
       "    }\n",
       "\n",
       "    .dataframe thead th {\n",
       "        text-align: right;\n",
       "    }\n",
       "</style>\n",
       "<table border=\"1\" class=\"dataframe\">\n",
       "  <thead>\n",
       "    <tr style=\"text-align: right;\">\n",
       "      <th></th>\n",
       "      <th>aa</th>\n",
       "      <th>agent</th>\n",
       "      <th>airline</th>\n",
       "      <th>airport</th>\n",
       "      <th>americanair</th>\n",
       "      <th>amp</th>\n",
       "      <th>bad</th>\n",
       "      <th>bag</th>\n",
       "      <th>baggage</th>\n",
       "      <th>bags</th>\n",
       "      <th>...</th>\n",
       "      <th>ve</th>\n",
       "      <th>virginamerica</th>\n",
       "      <th>wait</th>\n",
       "      <th>waiting</th>\n",
       "      <th>want</th>\n",
       "      <th>way</th>\n",
       "      <th>weather</th>\n",
       "      <th>won</th>\n",
       "      <th>work</th>\n",
       "      <th>worst</th>\n",
       "    </tr>\n",
       "  </thead>\n",
       "  <tbody>\n",
       "    <tr>\n",
       "      <th>0</th>\n",
       "      <td>0.0</td>\n",
       "      <td>0.0</td>\n",
       "      <td>0.0</td>\n",
       "      <td>0.0</td>\n",
       "      <td>0.0</td>\n",
       "      <td>0.509923</td>\n",
       "      <td>0.000000</td>\n",
       "      <td>0.0</td>\n",
       "      <td>0.0</td>\n",
       "      <td>0.0</td>\n",
       "      <td>...</td>\n",
       "      <td>0.0</td>\n",
       "      <td>0.620798</td>\n",
       "      <td>0.0</td>\n",
       "      <td>0.0</td>\n",
       "      <td>0.0</td>\n",
       "      <td>0.0</td>\n",
       "      <td>0.0</td>\n",
       "      <td>0.0</td>\n",
       "      <td>0.0</td>\n",
       "      <td>0.0</td>\n",
       "    </tr>\n",
       "    <tr>\n",
       "      <th>1</th>\n",
       "      <td>0.0</td>\n",
       "      <td>0.0</td>\n",
       "      <td>0.0</td>\n",
       "      <td>0.0</td>\n",
       "      <td>0.0</td>\n",
       "      <td>0.000000</td>\n",
       "      <td>0.602806</td>\n",
       "      <td>0.0</td>\n",
       "      <td>0.0</td>\n",
       "      <td>0.0</td>\n",
       "      <td>...</td>\n",
       "      <td>0.0</td>\n",
       "      <td>0.575815</td>\n",
       "      <td>0.0</td>\n",
       "      <td>0.0</td>\n",
       "      <td>0.0</td>\n",
       "      <td>0.0</td>\n",
       "      <td>0.0</td>\n",
       "      <td>0.0</td>\n",
       "      <td>0.0</td>\n",
       "      <td>0.0</td>\n",
       "    </tr>\n",
       "    <tr>\n",
       "      <th>2</th>\n",
       "      <td>0.0</td>\n",
       "      <td>0.0</td>\n",
       "      <td>0.0</td>\n",
       "      <td>0.0</td>\n",
       "      <td>0.0</td>\n",
       "      <td>0.000000</td>\n",
       "      <td>0.410963</td>\n",
       "      <td>0.0</td>\n",
       "      <td>0.0</td>\n",
       "      <td>0.0</td>\n",
       "      <td>...</td>\n",
       "      <td>0.0</td>\n",
       "      <td>0.392562</td>\n",
       "      <td>0.0</td>\n",
       "      <td>0.0</td>\n",
       "      <td>0.0</td>\n",
       "      <td>0.0</td>\n",
       "      <td>0.0</td>\n",
       "      <td>0.0</td>\n",
       "      <td>0.0</td>\n",
       "      <td>0.0</td>\n",
       "    </tr>\n",
       "    <tr>\n",
       "      <th>3</th>\n",
       "      <td>0.0</td>\n",
       "      <td>0.0</td>\n",
       "      <td>0.0</td>\n",
       "      <td>0.0</td>\n",
       "      <td>0.0</td>\n",
       "      <td>0.000000</td>\n",
       "      <td>0.000000</td>\n",
       "      <td>0.0</td>\n",
       "      <td>0.0</td>\n",
       "      <td>0.0</td>\n",
       "      <td>...</td>\n",
       "      <td>0.0</td>\n",
       "      <td>1.000000</td>\n",
       "      <td>0.0</td>\n",
       "      <td>0.0</td>\n",
       "      <td>0.0</td>\n",
       "      <td>0.0</td>\n",
       "      <td>0.0</td>\n",
       "      <td>0.0</td>\n",
       "      <td>0.0</td>\n",
       "      <td>0.0</td>\n",
       "    </tr>\n",
       "    <tr>\n",
       "      <th>4</th>\n",
       "      <td>0.0</td>\n",
       "      <td>0.0</td>\n",
       "      <td>0.0</td>\n",
       "      <td>0.0</td>\n",
       "      <td>0.0</td>\n",
       "      <td>0.000000</td>\n",
       "      <td>0.000000</td>\n",
       "      <td>0.0</td>\n",
       "      <td>0.0</td>\n",
       "      <td>0.0</td>\n",
       "      <td>...</td>\n",
       "      <td>0.0</td>\n",
       "      <td>0.619339</td>\n",
       "      <td>0.0</td>\n",
       "      <td>0.0</td>\n",
       "      <td>0.0</td>\n",
       "      <td>0.0</td>\n",
       "      <td>0.0</td>\n",
       "      <td>0.0</td>\n",
       "      <td>0.0</td>\n",
       "      <td>0.0</td>\n",
       "    </tr>\n",
       "  </tbody>\n",
       "</table>\n",
       "<p>5 rows × 100 columns</p>\n",
       "</div>"
      ],
      "text/plain": [
       "    aa  agent  airline  airport  americanair       amp       bad  bag  \\\n",
       "0  0.0    0.0      0.0      0.0          0.0  0.509923  0.000000  0.0   \n",
       "1  0.0    0.0      0.0      0.0          0.0  0.000000  0.602806  0.0   \n",
       "2  0.0    0.0      0.0      0.0          0.0  0.000000  0.410963  0.0   \n",
       "3  0.0    0.0      0.0      0.0          0.0  0.000000  0.000000  0.0   \n",
       "4  0.0    0.0      0.0      0.0          0.0  0.000000  0.000000  0.0   \n",
       "\n",
       "   baggage  bags  ...   ve  virginamerica  wait  waiting  want  way  weather  \\\n",
       "0      0.0   0.0  ...  0.0       0.620798   0.0      0.0   0.0  0.0      0.0   \n",
       "1      0.0   0.0  ...  0.0       0.575815   0.0      0.0   0.0  0.0      0.0   \n",
       "2      0.0   0.0  ...  0.0       0.392562   0.0      0.0   0.0  0.0      0.0   \n",
       "3      0.0   0.0  ...  0.0       1.000000   0.0      0.0   0.0  0.0      0.0   \n",
       "4      0.0   0.0  ...  0.0       0.619339   0.0      0.0   0.0  0.0      0.0   \n",
       "\n",
       "   won  work  worst  \n",
       "0  0.0   0.0    0.0  \n",
       "1  0.0   0.0    0.0  \n",
       "2  0.0   0.0    0.0  \n",
       "3  0.0   0.0    0.0  \n",
       "4  0.0   0.0    0.0  \n",
       "\n",
       "[5 rows x 100 columns]"
      ]
     },
     "execution_count": 43,
     "metadata": {},
     "output_type": "execute_result"
    }
   ],
   "source": [
    "# Define the vectorizer and specify the arguments\n",
    "my_pattern = r'\\b[^\\d\\W][^\\d\\W]+\\b'\n",
    "vect = TfidfVectorizer(ngram_range=(1, 2), max_features=100, token_pattern=my_pattern, stop_words=ENGLISH_STOP_WORDS).fit(tweets.text)\n",
    "\n",
    "# Transform the vectorizer\n",
    "X_txt = vect.transform(tweets.text)\n",
    "\n",
    "# Transform to a data frame and specify the column names\n",
    "X = pd.DataFrame(X_txt.toarray(), columns=vect.get_feature_names())\n",
    "X.head()"
   ]
  }
 ],
 "metadata": {
  "kernelspec": {
   "display_name": "Python 3",
   "language": "python",
   "name": "python3"
  },
  "language_info": {
   "codemirror_mode": {
    "name": "ipython",
    "version": 3
   },
   "file_extension": ".py",
   "mimetype": "text/x-python",
   "name": "python",
   "nbconvert_exporter": "python",
   "pygments_lexer": "ipython3",
   "version": "3.7.3"
  }
 },
 "nbformat": 4,
 "nbformat_minor": 4
}
