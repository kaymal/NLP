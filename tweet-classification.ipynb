{
 "cells": [
  {
   "cell_type": "markdown",
   "metadata": {
    "dc": {
     "key": "4"
    },
    "deletable": true,
    "editable": true,
    "run_control": {
     "frozen": true
    },
    "tags": [
     "context"
    ]
   },
   "source": [
    "# Tweet classification: Trump vs. Trudeau\n",
    "\n",
    "<p>In this notebook, we'll be investigating how to properly classify tweets from two prominent North American politicians: Donald Trump and Justin Trudeau.</p>\n",
    "<p><img src=\"https://upload.wikimedia.org/wikipedia/commons/thumb/4/47/President_Donald_Trump_and_Prime_Minister_Justin_Trudeau_Joint_Press_Conference%2C_February_13%2C_2017.jpg/800px-President_Donald_Trump_and_Prime_Minister_Justin_Trudeau_Joint_Press_Conference%2C_February_13%2C_2017.jpg\" alt=\"Donald Trump and Justin Trudeau shaking hands.\" height=\"50%\" width=\"50%\"></p>\n",
    "<p><a href=\"https://commons.wikimedia.org/wiki/File:President_Donald_Trump_and_Prime_Minister_Justin_Trudeau_Joint_Press_Conference,_February_13,_2017.jpg\">Photo Credit: Executive Office of the President of the United States</a></p>\n",
    "<p>Tweets pose specific problems to NLP, including the fact they are shorter texts. There are also plenty of platform-specific conventions to give you hassles: mentions, #hashtags, emoji, links and short-hand phrases (ikr?).</p>\n",
    "<p>To begin, we will import all the tools we need from scikit-learn. We will need to properly vectorize our data (<code>CountVectorizer</code> and <code>TfidfVectorizer</code>). And we will also want to import some models, including <code>MultinomialNB</code> from the <code>naive_bayes</code> module, <code>LinearSVC</code> from the <code>svm</code> module and <code>PassiveAggressiveClassifier</code> from the <code>linear_model</code> module. Finally, we'll need <code>sklearn.metrics</code> and <code>test_train_split</code> and <code>GridSearchCV</code> from the <code>model_selection</code> module to evaluate and optimize our model.</p>"
   ]
  },
  {
   "cell_type": "code",
   "execution_count": 1,
   "metadata": {
    "dc": {
     "key": "4"
    },
    "tags": [
     "sample_code"
    ]
   },
   "outputs": [],
   "source": [
    "# Import necessary modules\n",
    "\n",
    "import pandas as pd\n",
    "\n",
    "%matplotlib inline\n",
    "\n",
    "from sklearn.feature_extraction.text import CountVectorizer, TfidfVectorizer\n",
    "from sklearn.model_selection import train_test_split\n",
    "from sklearn.naive_bayes import MultinomialNB\n",
    "from sklearn.svm import LinearSVC\n",
    "from sklearn import metrics\n",
    "\n",
    "import random; random.seed(53) # Set seed for reproducibility"
   ]
  },
  {
   "cell_type": "markdown",
   "metadata": {
    "dc": {
     "key": "11"
    },
    "deletable": true,
    "editable": true,
    "run_control": {
     "frozen": true
    },
    "tags": [
     "context"
    ]
   },
   "source": [
    "## Transforming our collected data\n",
    "<p>To begin, let's start with a corpus of tweets which were collected in November 2017. They are available in CSV format. We'll use a Pandas DataFrame to help import the data and pass it to scikit-learn for further processing.</p>\n",
    "<p>Since the data has been collected via the Twitter API and not split into test and training sets, we'll need to do this. Let's use <code>test_train_split()</code> with <code>random_state=53</code> and a test size of 0.33, just as we did in the DataCamp course. This will ensure we have enough test data and we'll get the same results no matter where or when we run this code.</p>"
   ]
  },
  {
   "cell_type": "code",
   "execution_count": 2,
   "metadata": {},
   "outputs": [
    {
     "data": {
      "text/html": [
       "<div>\n",
       "<style scoped>\n",
       "    .dataframe tbody tr th:only-of-type {\n",
       "        vertical-align: middle;\n",
       "    }\n",
       "\n",
       "    .dataframe tbody tr th {\n",
       "        vertical-align: top;\n",
       "    }\n",
       "\n",
       "    .dataframe thead th {\n",
       "        text-align: right;\n",
       "    }\n",
       "</style>\n",
       "<table border=\"1\" class=\"dataframe\">\n",
       "  <thead>\n",
       "    <tr style=\"text-align: right;\">\n",
       "      <th></th>\n",
       "      <th>id</th>\n",
       "      <th>author</th>\n",
       "      <th>status</th>\n",
       "    </tr>\n",
       "  </thead>\n",
       "  <tbody>\n",
       "    <tr>\n",
       "      <th>320</th>\n",
       "      <td>321</td>\n",
       "      <td>Justin Trudeau</td>\n",
       "      <td>Happy 150th birthday to Marie Curie! Learn mor...</td>\n",
       "    </tr>\n",
       "    <tr>\n",
       "      <th>240</th>\n",
       "      <td>241</td>\n",
       "      <td>Justin Trudeau</td>\n",
       "      <td>RT @DefenseCanada: L’importance du Souvenir #L...</td>\n",
       "    </tr>\n",
       "    <tr>\n",
       "      <th>356</th>\n",
       "      <td>357</td>\n",
       "      <td>Justin Trudeau</td>\n",
       "      <td>Le Canada offre sa solidarité à ses voisins fa...</td>\n",
       "    </tr>\n",
       "    <tr>\n",
       "      <th>303</th>\n",
       "      <td>304</td>\n",
       "      <td>Justin Trudeau</td>\n",
       "      <td>Visit to Ho Chi Minh’s stilt house near the Pr...</td>\n",
       "    </tr>\n",
       "    <tr>\n",
       "      <th>369</th>\n",
       "      <td>370</td>\n",
       "      <td>Justin Trudeau</td>\n",
       "      <td>Today, we join Sikhs in Canada &amp;amp; around th...</td>\n",
       "    </tr>\n",
       "  </tbody>\n",
       "</table>\n",
       "</div>"
      ],
      "text/plain": [
       "      id          author                                             status\n",
       "320  321  Justin Trudeau  Happy 150th birthday to Marie Curie! Learn mor...\n",
       "240  241  Justin Trudeau  RT @DefenseCanada: L’importance du Souvenir #L...\n",
       "356  357  Justin Trudeau  Le Canada offre sa solidarité à ses voisins fa...\n",
       "303  304  Justin Trudeau  Visit to Ho Chi Minh’s stilt house near the Pr...\n",
       "369  370  Justin Trudeau  Today, we join Sikhs in Canada &amp; around th..."
      ]
     },
     "execution_count": 2,
     "metadata": {},
     "output_type": "execute_result"
    }
   ],
   "source": [
    "# Load data\n",
    "tweet_df = pd.read_csv('data/tweets.csv')\n",
    "\n",
    "tweet_df.sample(5)"
   ]
  },
  {
   "cell_type": "code",
   "execution_count": 3,
   "metadata": {},
   "outputs": [
    {
     "data": {
      "text/plain": [
       "(400, 3)"
      ]
     },
     "execution_count": 3,
     "metadata": {},
     "output_type": "execute_result"
    }
   ],
   "source": [
    "tweet_df.shape"
   ]
  },
  {
   "cell_type": "code",
   "execution_count": 4,
   "metadata": {},
   "outputs": [
    {
     "data": {
      "text/plain": [
       "Donald J. Trump    200\n",
       "Justin Trudeau     200\n",
       "Name: author, dtype: int64"
      ]
     },
     "execution_count": 4,
     "metadata": {},
     "output_type": "execute_result"
    }
   ],
   "source": [
    "tweet_df.author.value_counts()"
   ]
  },
  {
   "cell_type": "code",
   "execution_count": 5,
   "metadata": {
    "dc": {
     "key": "11"
    },
    "tags": [
     "sample_code"
    ]
   },
   "outputs": [],
   "source": [
    "# Create features and target\n",
    "X = tweet_df['status']\n",
    "y = tweet_df['author']\n",
    "\n",
    "# Split training and testing data\n",
    "X_train, X_test, y_train, y_test = train_test_split(X, y, test_size=.33, random_state=53) # test_size=0.25, random_state=53"
   ]
  },
  {
   "cell_type": "markdown",
   "metadata": {
    "dc": {
     "key": "18"
    },
    "deletable": true,
    "editable": true,
    "run_control": {
     "frozen": true
    },
    "tags": [
     "context"
    ]
   },
   "source": [
    "## Vectorize the tweets\n",
    "<p>We have the training and testing data all set up, but we need to create vectorized representations of the tweets in order to apply machine learning. To do so, we will utilize the <code>CountVectorizer</code> and <code>TfidfVectorizer</code> classes which we will first need to fit to the data. Once this is complete, we can start modeling with the new vectorized tweets!</p>"
   ]
  },
  {
   "cell_type": "markdown",
   "metadata": {},
   "source": [
    "`CountVectorizer` converts a collection of text documents to a matrix of token counts. It implements both tokenization and occurrence counting in a single class. `TfidfVectorizer` converts a collection of raw documents to a matrix of TF-IDF features. \n",
    "> The goal of using [tf-idf](https://scikit-learn.org/stable/modules/generated/sklearn.feature_extraction.text.TfidfTransformer.html#sklearn.feature_extraction.text.TfidfTransformer) instead of the raw frequencies of occurrence of a token in a given document is to scale down the impact of tokens that occur very frequently in a given corpus and that are hence empirically less informative than features that occur in a small fraction of the training corpus."
   ]
  },
  {
   "cell_type": "code",
   "execution_count": 6,
   "metadata": {
    "dc": {
     "key": "18"
    },
    "tags": [
     "sample_code"
    ]
   },
   "outputs": [],
   "source": [
    "\"\"\"\n",
    "When building the vocabulary, ignore terms that have a document frequency\n",
    "strictly higher/lower than the given threshold (corpus-specific stop words) \n",
    ">> In this example: ignore terms with frequency higher than 0.9 and lower than 0.05\n",
    "\"\"\"\n",
    "\n",
    "# Initialize count vectorizer\n",
    "count_vectorizer = CountVectorizer(stop_words='english', max_df=0.9, min_df=0.05)\n",
    "\n",
    "# Create count train and test variables\n",
    "count_train = count_vectorizer.fit_transform(X_train) #Learn the vocabulary dictionary and return term-document matrix.\n",
    "count_test = count_vectorizer.transform(X_test) # Transform documents to document-term matrix."
   ]
  },
  {
   "cell_type": "code",
   "execution_count": 7,
   "metadata": {},
   "outputs": [
    {
     "data": {
      "text/plain": [
       "<268x16 sparse matrix of type '<class 'numpy.int64'>'\n",
       "\twith 508 stored elements in Compressed Sparse Row format>"
      ]
     },
     "execution_count": 7,
     "metadata": {},
     "output_type": "execute_result"
    }
   ],
   "source": [
    "count_train"
   ]
  },
  {
   "cell_type": "code",
   "execution_count": 8,
   "metadata": {},
   "outputs": [
    {
     "data": {
      "text/plain": [
       "array([[0, 0, 0, ..., 0, 1, 0],\n",
       "       [1, 0, 0, ..., 0, 0, 0],\n",
       "       [0, 0, 0, ..., 0, 0, 0],\n",
       "       ...,\n",
       "       [0, 0, 0, ..., 0, 0, 0],\n",
       "       [0, 0, 0, ..., 0, 0, 1],\n",
       "       [0, 0, 0, ..., 0, 0, 0]])"
      ]
     },
     "execution_count": 8,
     "metadata": {},
     "output_type": "execute_result"
    }
   ],
   "source": [
    "count_train.toarray()"
   ]
  },
  {
   "cell_type": "code",
   "execution_count": 9,
   "metadata": {},
   "outputs": [
    {
     "name": "stdout",
     "output_type": "stream",
     "text": [
      "['amp', 'canada', 'du', 'et', 'great', 'https', 'la', 'le', 'les', 'nous', 'pour', 'president', 'rt', 'thank', 'today', 'vietnam']\n"
     ]
    }
   ],
   "source": [
    "print(count_vectorizer.get_feature_names()) # Array mapping from feature integer indices to feature name"
   ]
  },
  {
   "cell_type": "code",
   "execution_count": 10,
   "metadata": {},
   "outputs": [],
   "source": [
    "# Initialize tfidf vectorizer\n",
    "tfidf_vectorizer = TfidfVectorizer(stop_words='english', max_df=0.9, min_df=0.05)\n",
    "\n",
    "# Create tfidf train and test variables\n",
    "tfidf_train = tfidf_vectorizer.fit_transform(X_train) # Learn vocabulary and idf, return term-document matrix.\n",
    "tfidf_test = tfidf_vectorizer.transform(X_test) # Transform documents to document-term matrix."
   ]
  },
  {
   "cell_type": "code",
   "execution_count": 11,
   "metadata": {},
   "outputs": [
    {
     "name": "stdout",
     "output_type": "stream",
     "text": [
      "['amp', 'canada', 'du', 'et', 'great', 'https', 'la', 'le', 'les', 'nous', 'pour', 'president', 'rt', 'thank', 'today', 'vietnam']\n"
     ]
    }
   ],
   "source": [
    "print(tfidf_vectorizer.get_feature_names()) # rray mapping from feature integer indices to feature name"
   ]
  },
  {
   "cell_type": "markdown",
   "metadata": {
    "dc": {
     "key": "25"
    },
    "deletable": true,
    "editable": true,
    "run_control": {
     "frozen": true
    },
    "tags": [
     "context"
    ]
   },
   "source": [
    "## Training a multinomial naive Bayes model\n",
    "\n",
    "Now that we have the data in vectorized form, we can train the first model. `sklearn.naive_bayes.MultinomialNB` is a Naive Bayes classifier for multinomial models. \n",
    "> The multinomial Naive Bayes classifier is suitable for classification with discrete features (e.g., word counts for text classification). The multinomial distribution normally requires integer feature counts. However, in practice, fractional counts such as tf-idf may also work. [ref](https://scikit-learn.org/stable/modules/generated/sklearn.naive_bayes.MultinomialNB.html)\n",
    "\n",
    "Let's investigate using the Multinomial Naive Bayes model with both the <code>CountVectorizer</code> and <code>TfidfVectorizer</code> data. Accuracy scores for both models suggest that `TfidfVectorizer` performs better. "
   ]
  },
  {
   "cell_type": "code",
   "execution_count": 12,
   "metadata": {
    "dc": {
     "key": "25"
    },
    "tags": [
     "sample_code"
    ]
   },
   "outputs": [
    {
     "name": "stdout",
     "output_type": "stream",
     "text": [
      "NaiveBayes Count Score:  0.7954545454545454\n"
     ]
    }
   ],
   "source": [
    "# Create a MulitnomialNB model\n",
    "count_nb = MultinomialNB()\n",
    "\n",
    "count_nb.fit(count_train, y_train)\n",
    "\n",
    "# Run predict on count test data to get predictions\n",
    "count_nb_pred = count_nb.predict(count_test)\n",
    "\n",
    "# Calculate the accuracy of predictions\n",
    "count_nb_score = count_nb.score(count_test, y_test)\n",
    "\n",
    "print('NaiveBayes Count Score: ', count_nb_score)"
   ]
  },
  {
   "cell_type": "code",
   "execution_count": 13,
   "metadata": {},
   "outputs": [
    {
     "data": {
      "text/html": [
       "<div>\n",
       "<style scoped>\n",
       "    .dataframe tbody tr th:only-of-type {\n",
       "        vertical-align: middle;\n",
       "    }\n",
       "\n",
       "    .dataframe tbody tr th {\n",
       "        vertical-align: top;\n",
       "    }\n",
       "\n",
       "    .dataframe thead th {\n",
       "        text-align: right;\n",
       "    }\n",
       "</style>\n",
       "<table border=\"1\" class=\"dataframe\">\n",
       "  <thead>\n",
       "    <tr style=\"text-align: right;\">\n",
       "      <th></th>\n",
       "      <th>pred</th>\n",
       "      <th>test</th>\n",
       "    </tr>\n",
       "  </thead>\n",
       "  <tbody>\n",
       "    <tr>\n",
       "      <th>0</th>\n",
       "      <td>Donald J. Trump</td>\n",
       "      <td>Donald J. Trump</td>\n",
       "    </tr>\n",
       "    <tr>\n",
       "      <th>1</th>\n",
       "      <td>Donald J. Trump</td>\n",
       "      <td>Donald J. Trump</td>\n",
       "    </tr>\n",
       "    <tr>\n",
       "      <th>2</th>\n",
       "      <td>Donald J. Trump</td>\n",
       "      <td>Donald J. Trump</td>\n",
       "    </tr>\n",
       "    <tr>\n",
       "      <th>3</th>\n",
       "      <td>Justin Trudeau</td>\n",
       "      <td>Donald J. Trump</td>\n",
       "    </tr>\n",
       "    <tr>\n",
       "      <th>4</th>\n",
       "      <td>Justin Trudeau</td>\n",
       "      <td>Justin Trudeau</td>\n",
       "    </tr>\n",
       "  </tbody>\n",
       "</table>\n",
       "</div>"
      ],
      "text/plain": [
       "              pred             test\n",
       "0  Donald J. Trump  Donald J. Trump\n",
       "1  Donald J. Trump  Donald J. Trump\n",
       "2  Donald J. Trump  Donald J. Trump\n",
       "3   Justin Trudeau  Donald J. Trump\n",
       "4   Justin Trudeau   Justin Trudeau"
      ]
     },
     "execution_count": 13,
     "metadata": {},
     "output_type": "execute_result"
    }
   ],
   "source": [
    "pd.DataFrame([count_nb_pred[:5], y_test[:5]], index=['pred', 'test']).T"
   ]
  },
  {
   "cell_type": "code",
   "execution_count": 14,
   "metadata": {},
   "outputs": [
    {
     "name": "stdout",
     "output_type": "stream",
     "text": [
      "NaiveBayes Tfidf Score:  0.803030303030303\n"
     ]
    }
   ],
   "source": [
    "# Create a MulitnomialNB model\n",
    "tfidf_nb = MultinomialNB()\n",
    "\n",
    "tfidf_nb.fit(tfidf_train, y_train)\n",
    "\n",
    "# Run predict on TF-IDF test data to get predictions\n",
    "tfidf_nb_pred = tfidf_nb.predict(tfidf_test)\n",
    "\n",
    "# Calculate the accuracy of predictions\n",
    "tfidf_nb_score = tfidf_nb.score(tfidf_test, y_test)\n",
    "\n",
    "print('NaiveBayes Tfidf Score: ', tfidf_nb_score)"
   ]
  },
  {
   "cell_type": "code",
   "execution_count": 15,
   "metadata": {},
   "outputs": [
    {
     "data": {
      "text/html": [
       "<div>\n",
       "<style scoped>\n",
       "    .dataframe tbody tr th:only-of-type {\n",
       "        vertical-align: middle;\n",
       "    }\n",
       "\n",
       "    .dataframe tbody tr th {\n",
       "        vertical-align: top;\n",
       "    }\n",
       "\n",
       "    .dataframe thead th {\n",
       "        text-align: right;\n",
       "    }\n",
       "</style>\n",
       "<table border=\"1\" class=\"dataframe\">\n",
       "  <thead>\n",
       "    <tr style=\"text-align: right;\">\n",
       "      <th></th>\n",
       "      <th>pred</th>\n",
       "      <th>test</th>\n",
       "    </tr>\n",
       "  </thead>\n",
       "  <tbody>\n",
       "    <tr>\n",
       "      <th>0</th>\n",
       "      <td>Donald J. Trump</td>\n",
       "      <td>Donald J. Trump</td>\n",
       "    </tr>\n",
       "    <tr>\n",
       "      <th>1</th>\n",
       "      <td>Donald J. Trump</td>\n",
       "      <td>Donald J. Trump</td>\n",
       "    </tr>\n",
       "    <tr>\n",
       "      <th>2</th>\n",
       "      <td>Donald J. Trump</td>\n",
       "      <td>Donald J. Trump</td>\n",
       "    </tr>\n",
       "    <tr>\n",
       "      <th>3</th>\n",
       "      <td>Justin Trudeau</td>\n",
       "      <td>Donald J. Trump</td>\n",
       "    </tr>\n",
       "    <tr>\n",
       "      <th>4</th>\n",
       "      <td>Justin Trudeau</td>\n",
       "      <td>Justin Trudeau</td>\n",
       "    </tr>\n",
       "  </tbody>\n",
       "</table>\n",
       "</div>"
      ],
      "text/plain": [
       "              pred             test\n",
       "0  Donald J. Trump  Donald J. Trump\n",
       "1  Donald J. Trump  Donald J. Trump\n",
       "2  Donald J. Trump  Donald J. Trump\n",
       "3   Justin Trudeau  Donald J. Trump\n",
       "4   Justin Trudeau   Justin Trudeau"
      ]
     },
     "execution_count": 15,
     "metadata": {},
     "output_type": "execute_result"
    }
   ],
   "source": [
    "pd.DataFrame([tfidf_nb_pred[:5], y_test[:5]], index=['pred', 'test']).T"
   ]
  },
  {
   "cell_type": "markdown",
   "metadata": {
    "dc": {
     "key": "32"
    },
    "deletable": true,
    "editable": true,
    "run_control": {
     "frozen": true
    },
    "tags": [
     "context"
    ]
   },
   "source": [
    "## Evaluating our model using a confusion matrix\n",
    "<p>We see that the TF-IDF model performs better than the count-based approach. Based on what we know from the NLP fundamentals course, why might that be? We know that TF-IDF allows unique tokens to have a greater weight - perhaps tweeters are using specific important words that identify them! Let's continue the investigation.</p>\n",
    "<p>For classification tasks, an accuracy score doesn't tell the whole picture. A better evaluation can be made if we look at the confusion matrix, which shows the number of correct and incorrect classifications based on each class. We can use the metrics, True Positives, False Positives, False Negatives, and True Negatives, to determine how well the model performed on a given class. How many times was Trump misclassified as Trudeau?</p>"
   ]
  },
  {
   "cell_type": "code",
   "execution_count": 16,
   "metadata": {
    "dc": {
     "key": "32"
    },
    "tags": [
     "sample_code"
    ]
   },
   "outputs": [
    {
     "name": "stdout",
     "output_type": "stream",
     "text": [
      "[[56  2]\n",
      " [25 49]]\n",
      "[[56  2]\n",
      " [24 50]]\n"
     ]
    }
   ],
   "source": [
    "# Calculate the confusion matrices for the tfidf_nb model and count_nb models\n",
    "count_nb_cm = metrics.confusion_matrix(y_test, count_nb_pred, labels=['Donald J. Trump', 'Justin Trudeau'])\n",
    "tfidf_nb_cm = metrics.confusion_matrix(y_test, tfidf_nb_pred, labels=['Donald J. Trump', 'Justin Trudeau'])\n",
    "\n",
    "print(count_nb_cm)\n",
    "\n",
    "print(tfidf_nb_cm)"
   ]
  },
  {
   "cell_type": "code",
   "execution_count": 17,
   "metadata": {},
   "outputs": [
    {
     "name": "stdout",
     "output_type": "stream",
     "text": [
      "Confusion matrix, without normalization\n",
      "Confusion matrix, without normalization\n"
     ]
    },
    {
     "data": {
      "image/png": "[encoded data removed]",
      "text/plain": [
       "<Figure size 432x288 with 2 Axes>"
      ]
     },
     "metadata": {
      "needs_background": "light"
     },
     "output_type": "display_data"
    },
    {
     "data": {
      "image/png": "[encoded data removed]",
      "text/plain": [
       "<Figure size 432x288 with 2 Axes>"
      ]
     },
     "metadata": {
      "needs_background": "light"
     },
     "output_type": "display_data"
    }
   ],
   "source": [
    "%matplotlib inline\n",
    "\n",
    "from data.helper_functions import plot_confusion_matrix\n",
    "\n",
    "# Plot the tfidf_nb_cm confusion matrix\n",
    "plot_confusion_matrix(tfidf_nb_cm, classes=['Donald J. Trump', 'Justin Trudeau'], title=\"TF-IDF NB Confusion Matrix\")\n",
    "\n",
    "# Plot the count_nb_cm confusion matrix without overwriting the first plot \n",
    "plot_confusion_matrix(count_nb_cm, classes=['Donald J. Trump', 'Justin Trudeau'], title=\"Count NB Confusion Matrix\", figure=1)"
   ]
  },
  {
   "cell_type": "markdown",
   "metadata": {
    "dc": {
     "key": "39"
    },
    "deletable": true,
    "editable": true,
    "run_control": {
     "frozen": true
    },
    "tags": [
     "context"
    ]
   },
   "source": [
    "## Trying out another classifier: Linear SVC\n",
    "<p>So the Bayesian model only has one prediction difference between the TF-IDF and count vectorizers -- fairly impressive! Interestingly, there is some confusion when the predicted label is Trump but the actual tweeter is Trudeau. If we were going to use this model, we would want to investigate what tokens are causing the confusion in order to improve the model. </p>\n",
    "<p>Now that we've seen what the Bayesian model can do, how about trying a different approach? <a href=\"https://scikit-learn.org/stable/modules/generated/sklearn.svm.LinearSVC.html\">LinearSVC</a> is another popular choice for text classification. Let's see if using it with the TF-IDF vectors improves the accuracy of the classifier!</p>"
   ]
  },
  {
   "cell_type": "code",
   "execution_count": 18,
   "metadata": {
    "dc": {
     "key": "39"
    },
    "tags": [
     "sample_code"
    ]
   },
   "outputs": [
    {
     "name": "stdout",
     "output_type": "stream",
     "text": [
      "LinearSVC Score:   0.841\n",
      "Confusion matrix, without normalization\n"
     ]
    },
    {
     "data": {
      "image/png": "[encoded data removed]",
      "text/plain": [
       "<Figure size 432x288 with 2 Axes>"
      ]
     },
     "metadata": {
      "needs_background": "light"
     },
     "output_type": "display_data"
    }
   ],
   "source": [
    "# Create a LinearSVC model\n",
    "tfidf_svc = LinearSVC()\n",
    "\n",
    "# Train model\n",
    "tfidf_svc.fit(tfidf_train, y_train)\n",
    "\n",
    "# Run predict on tfidf test data to get predictions\n",
    "tfidf_svc_pred = tfidf_svc.predict(tfidf_test)\n",
    "\n",
    "# Calculate accuracy using the metrics module\n",
    "tfidf_svc_score = tfidf_svc.score(tfidf_test, y_test)\n",
    "\n",
    "print(\"LinearSVC Score:   %0.3f\" % tfidf_svc_score)\n",
    "\n",
    "# Calculate the confusion matrices for the tfidf_svc model\n",
    "svc_cm = metrics.confusion_matrix(y_test, tfidf_svc_pred, labels=['Donald J. Trump', 'Justin Trudeau'])\n",
    "\n",
    "# Plot the confusion matrix using the plot_confusion_matrix function\n",
    "plot_confusion_matrix(svc_cm, classes=['Donald J. Trump', 'Justin Trudeau'], title=\"TF-IDF LinearSVC Confusion Matrix\")"
   ]
  },
  {
   "cell_type": "markdown",
   "metadata": {
    "dc": {
     "key": "46"
    },
    "deletable": true,
    "editable": true,
    "run_control": {
     "frozen": true
    },
    "tags": [
     "context"
    ]
   },
   "source": [
    "## Introspecting our top model\n",
    "The LinearSVC model is even better than the Multinomial Bayesian one. Via the confusion matrix we can see that, although there is still some confusion where Trudeau's tweets are classified as Trump's, the False Positive rate is better than the previous model. So, we have a performant model. \n",
    "\n",
    "We might be able to continue tweaking and improving all of the previous models by parameter optimization or applying some better preprocessing of the tweets.\n",
    "\n",
    "Now let's see what the model has learned. Using the LinearSVC Classifier with two classes (Trump and Trudeau) we can sort the features (tokens), by their weight and see the most important tokens for both Trump and Trudeau.\n",
    "    \n",
    "What are the most Trump-like or Trudeau-like words? Did the model learn something useful to distinguish between these two men?"
   ]
  },
  {
   "cell_type": "code",
   "execution_count": 19,
   "metadata": {
    "dc": {
     "key": "46"
    },
    "tags": [
     "sample_code"
    ]
   },
   "outputs": [
    {
     "data": {
      "image/png": "[encoded data removed]",
      "text/plain": [
       "<Figure size 1080x360 with 1 Axes>"
      ]
     },
     "metadata": {
      "needs_background": "light"
     },
     "output_type": "display_data"
    },
    {
     "name": "stdout",
     "output_type": "stream",
     "text": [
      "[(-0.39597215018997367, 'great'),\n",
      " (-0.24645038190736127, 'thank'),\n",
      " (0.06257415519330874, 'president'),\n",
      " (0.48211728590926733, 'https'),\n",
      " (0.5960539278162452, 'vietnam'),\n",
      " (0.6155600413865155, 'amp'),\n",
      " (0.7725801006980898, 'le'),\n",
      " (0.8213824945118332, 'les'),\n",
      " (0.8286559533310098, 'today'),\n",
      " (1.1869078634868757, 'du'),\n",
      " (1.3143466426589534, 'pour'),\n",
      " (1.4122543843478754, 'nous'),\n",
      " (1.4612767389235006, 'rt'),\n",
      " (1.49917587956083, 'et'),\n",
      " (1.5056442320488004, 'la'),\n",
      " (1.65679911556019, 'canada')]\n"
     ]
    }
   ],
   "source": [
    "from data.helper_functions import plot_and_return_top_features\n",
    "\n",
    "# Import pprint from pprint\n",
    "from pprint import pprint\n",
    "\n",
    "# Get the top features using the plot_and_return_top_features function and top model and tfidf vectorizer\n",
    "top_features = plot_and_return_top_features(tfidf_svc, tfidf_vectorizer)\n",
    "\n",
    "# pprint the top features\n",
    "pprint(top_features)"
   ]
  },
  {
   "cell_type": "markdown",
   "metadata": {
    "dc": {
     "key": "53"
    },
    "deletable": true,
    "editable": true,
    "run_control": {
     "frozen": true
    },
    "tags": [
     "context"
    ]
   },
   "source": [
    "## Trump or Trudeau tweet?\n",
    "\n",
    "It seems like the model learned that Trudeau tweets in French, since many of the words in the top deatures list are French. Those are mostly the common words, or, \"stop words\". We could remove both English and French stop words from the tweets as a preprocessing step, but that might decrease the accuracy of the model because Trudeau is the only French-speaker in the group. If we had a dataset with more than one French speaker, this would be a useful preprocessing step.\n",
    "\n",
    "<p>Future work on this dataset could involve:</p>\n",
    "<ul>\n",
    "<li>Add extra preprocessing (such as removing URLs or French stop words) and see the effects</li>\n",
    "<li>Use GridSearchCV to improve both Bayesian and LinearSVC models by finding the optimal parameters</li>\n",
    "<li>Introspect the Bayesian model to determine what words are more Trump- or Trudeau- like</li>\n",
    "<li>Add more recent tweets to the dataset using tweepy and retrain</li>\n",
    "</ul>\n",
    "\n",
    "Let's write our own tweet using the knowledge gained to trick the model! We'll use the plot above to make some inferences about what words will classify the text as Trump or Trudeau. \n"
   ]
  },
  {
   "cell_type": "code",
   "execution_count": 20,
   "metadata": {
    "dc": {
     "key": "53"
    },
    "tags": [
     "sample_code"
    ]
   },
   "outputs": [
    {
     "name": "stdout",
     "output_type": "stream",
     "text": [
      "Predicted Trump tweet ['Donald J. Trump']\n",
      "Predicted Trudeau tweet ['Justin Trudeau']\n"
     ]
    }
   ],
   "source": [
    "# Write two tweets as strings, one which you want to classify as Trump and one as Trudeau\n",
    "trump_tweet = \"I thank you for being a great patriot!\"\n",
    "trudeau_tweet = \"Le moi je les\"\n",
    "\n",
    "# Vectorize each tweet using the TF-IDF vectorizer's transform method\n",
    "trump_tweet_vectorized = tfidf_vectorizer.transform([trump_tweet])\n",
    "trudeau_tweet_vectorized = tfidf_vectorizer.transform([trudeau_tweet])\n",
    "\n",
    "# Call the predict method on vectorized tweets\n",
    "trump_tweet_pred = tfidf_svc.predict(trump_tweet_vectorized)\n",
    "trudeau_tweet_pred = tfidf_svc.predict(trudeau_tweet_vectorized)\n",
    "\n",
    "print(\"Predicted Trump tweet\", trump_tweet_pred)\n",
    "print(\"Predicted Trudeau tweet\", trudeau_tweet_pred)"
   ]
  }
 ],
 "metadata": {
  "kernelspec": {
   "display_name": "Python 3",
   "language": "python",
   "name": "python3"
  },
  "language_info": {
   "codemirror_mode": {
    "name": "ipython",
    "version": 3
   },
   "file_extension": ".py",
   "mimetype": "text/x-python",
   "name": "python",
   "nbconvert_exporter": "python",
   "pygments_lexer": "ipython3",
   "version": "3.7.3"
  },
  "toc-autonumbering": false
 },
 "nbformat": 4,
 "nbformat_minor": 4
}
